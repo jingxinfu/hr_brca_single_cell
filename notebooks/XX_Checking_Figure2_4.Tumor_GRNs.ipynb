{
 "cells": [
  {
   "cell_type": "code",
   "execution_count": 2,
   "id": "0d7f770e-1cd3-411d-87ea-adffdf8fe690",
   "metadata": {},
   "outputs": [],
   "source": [
    "REPO = '../'\n",
    "RESULT_TABLE = f'{REPO}/data/table'\n",
    "RESULT_OBJ = f'{REPO}/data/object'\n",
    "FIGURE_FOLDER= f'{REPO}/data/figure'\n",
    "SETTING_FOLDER = f'{REPO}/data/setting'\n",
    "EXTERNAL_DATA=f'{REPO}/data/external'\n",
    "\n",
    "import os\n",
    "import sys\n",
    "import glob\n",
    "import scanpy as sc\n",
    "import anndata\n",
    "sys.path.append(REPO)\n",
    "from settings import COLOR_PAlETTE\n",
    "from utils.visual import *\n",
    "import warnings\n",
    "import commentjson\n",
    "import pickle\n",
    "\n",
    "### Additional Colormap\n",
    "with open(f'{SETTING_FOLDER}/ColorMap.json','r') as f:\n",
    "    colormap = commentjson.load(f)\n",
    "COLOR_PAlETTE.update(colormap)\n",
    "plt.style.use(f'{REPO}/paper.mplstyle')\n",
    "\n",
    "warnings.filterwarnings(\"ignore\")\n",
    "%load_ext autoreload\n",
    "%autoreload 2"
   ]
  },
  {
   "cell_type": "code",
   "execution_count": 4,
   "id": "37d8c92c-4a68-4de6-b5f2-aa963599ac28",
   "metadata": {},
   "outputs": [
    {
     "ename": "FileNotFoundError",
     "evalue": "[Errno 2] No such file or directory: '..//data/object/scenic/tumor/scplus_obj.pkl'",
     "output_type": "error",
     "traceback": [
      "\u001b[0;31m---------------------------------------------------------------------------\u001b[0m",
      "\u001b[0;31mFileNotFoundError\u001b[0m                         Traceback (most recent call last)",
      "Cell \u001b[0;32mIn[4], line 4\u001b[0m\n\u001b[1;32m      2\u001b[0m null \u001b[38;5;241m=\u001b[39m \u001b[38;5;28mopen\u001b[39m(os\u001b[38;5;241m.\u001b[39mdevnull,\u001b[38;5;124m'\u001b[39m\u001b[38;5;124mwb\u001b[39m\u001b[38;5;124m'\u001b[39m)\n\u001b[1;32m      3\u001b[0m \u001b[38;5;28;01mimport\u001b[39;00m \u001b[38;5;21;01mdill\u001b[39;00m\n\u001b[0;32m----> 4\u001b[0m scplus_obj \u001b[38;5;241m=\u001b[39m dill\u001b[38;5;241m.\u001b[39mload(\u001b[38;5;28;43mopen\u001b[39;49m\u001b[43m(\u001b[49m\u001b[38;5;124;43mf\u001b[39;49m\u001b[38;5;124;43m'\u001b[39;49m\u001b[38;5;132;43;01m{\u001b[39;49;00m\u001b[43mRESULT_OBJ\u001b[49m\u001b[38;5;132;43;01m}\u001b[39;49;00m\u001b[38;5;124;43m/scenic/tumor/scplus_obj.pkl\u001b[39;49m\u001b[38;5;124;43m'\u001b[39;49m\u001b[43m,\u001b[49m\u001b[43m \u001b[49m\u001b[38;5;124;43m'\u001b[39;49m\u001b[38;5;124;43mrb\u001b[39;49m\u001b[38;5;124;43m'\u001b[39;49m\u001b[43m)\u001b[49m)\n",
      "File \u001b[0;32m~/miniconda3/envs/scPipe/lib/python3.8/site-packages/IPython/core/interactiveshell.py:284\u001b[0m, in \u001b[0;36m_modified_open\u001b[0;34m(file, *args, **kwargs)\u001b[0m\n\u001b[1;32m    277\u001b[0m \u001b[38;5;28;01mif\u001b[39;00m file \u001b[38;5;129;01min\u001b[39;00m {\u001b[38;5;241m0\u001b[39m, \u001b[38;5;241m1\u001b[39m, \u001b[38;5;241m2\u001b[39m}:\n\u001b[1;32m    278\u001b[0m     \u001b[38;5;28;01mraise\u001b[39;00m \u001b[38;5;167;01mValueError\u001b[39;00m(\n\u001b[1;32m    279\u001b[0m         \u001b[38;5;124mf\u001b[39m\u001b[38;5;124m\"\u001b[39m\u001b[38;5;124mIPython won\u001b[39m\u001b[38;5;124m'\u001b[39m\u001b[38;5;124mt let you open fd=\u001b[39m\u001b[38;5;132;01m{\u001b[39;00mfile\u001b[38;5;132;01m}\u001b[39;00m\u001b[38;5;124m by default \u001b[39m\u001b[38;5;124m\"\u001b[39m\n\u001b[1;32m    280\u001b[0m         \u001b[38;5;124m\"\u001b[39m\u001b[38;5;124mas it is likely to crash IPython. If you know what you are doing, \u001b[39m\u001b[38;5;124m\"\u001b[39m\n\u001b[1;32m    281\u001b[0m         \u001b[38;5;124m\"\u001b[39m\u001b[38;5;124myou can use builtins\u001b[39m\u001b[38;5;124m'\u001b[39m\u001b[38;5;124m open.\u001b[39m\u001b[38;5;124m\"\u001b[39m\n\u001b[1;32m    282\u001b[0m     )\n\u001b[0;32m--> 284\u001b[0m \u001b[38;5;28;01mreturn\u001b[39;00m \u001b[43mio_open\u001b[49m\u001b[43m(\u001b[49m\u001b[43mfile\u001b[49m\u001b[43m,\u001b[49m\u001b[43m \u001b[49m\u001b[38;5;241;43m*\u001b[39;49m\u001b[43margs\u001b[49m\u001b[43m,\u001b[49m\u001b[43m \u001b[49m\u001b[38;5;241;43m*\u001b[39;49m\u001b[38;5;241;43m*\u001b[39;49m\u001b[43mkwargs\u001b[49m\u001b[43m)\u001b[49m\n",
      "\u001b[0;31mFileNotFoundError\u001b[0m: [Errno 2] No such file or directory: '..//data/object/scenic/tumor/scplus_obj.pkl'"
     ]
    }
   ],
   "source": [
    "_stderr = sys.stderr\n",
    "null = open(os.devnull,'wb')\n",
    "import dill\n",
    "scplus_obj = dill.load(open(f'{RESULT_OBJ}/scenic/tumor/scplus_obj.pkl', 'rb'))"
   ]
  },
  {
   "cell_type": "markdown",
   "id": "757dbdcc-a29c-4996-bcc3-ea25b2651ddf",
   "metadata": {},
   "source": [
    "## Simplifying and filtering SCENIC+ output"
   ]
  },
  {
   "cell_type": "code",
   "execution_count": 3,
   "id": "f003498f-bf04-4c50-926e-0b5a0c08abaa",
   "metadata": {},
   "outputs": [
    {
     "data": {
      "text/plain": [
       "dict_keys(['Cistromes', 'search_space', 'region_to_gene', 'TF2G_adj', 'eRegulons', 'eRegulon_metadata', 'eRegulon_signatures', 'eRegulon_AUC', 'Pseudobulk', 'TF_cistrome_correlation', 'eRegulon_AUC_thresholds'])"
      ]
     },
     "execution_count": 3,
     "metadata": {},
     "output_type": "execute_result"
    }
   ],
   "source": [
    "scplus_obj.uns.keys()"
   ]
  },
  {
   "cell_type": "code",
   "execution_count": 4,
   "id": "29477383-71f6-4b05-a433-b35ff1440916",
   "metadata": {},
   "outputs": [
    {
     "name": "stdout",
     "output_type": "stream",
     "text": [
      "Only keeping positive R2G\n",
      "Only keep extended if not direct\n",
      "Getting signatures...\n",
      "Simplifying eRegulons ...\n"
     ]
    }
   ],
   "source": [
    "from scenicplus.preprocessing.filtering import apply_std_filtering_to_eRegulons\n",
    "apply_std_filtering_to_eRegulons(scplus_obj)"
   ]
  },
  {
   "cell_type": "markdown",
   "id": "fef93965-5799-4254-a0c9-aff582ce858a",
   "metadata": {},
   "source": [
    "## eRegulon enrichment scores"
   ]
  },
  {
   "cell_type": "code",
   "execution_count": null,
   "id": "9e450d20-b684-4f25-8c70-cfb6038ff68e",
   "metadata": {},
   "outputs": [],
   "source": [
    "from scenicplus.eregulon_enrichment import score_eRegulons\n",
    "region_ranking = dill.load(open(f'{RESULT_OBJ}/scenic/tumor/region_ranking.pkl', 'rb')) #load ranking calculated using the wrapper function\n",
    "gene_ranking = dill.load(open(f'{RESULT_OBJ}/scenic/tumor/gene_ranking.pkl', 'rb')) #load ranking calculated using the wrapper function\n",
    "score_eRegulons(scplus_obj,\n",
    "                ranking = region_ranking,\n",
    "                eRegulon_signatures_key = 'eRegulon_signatures_filtered',\n",
    "                key_added = 'eRegulon_AUC_filtered',\n",
    "                enrichment_type= 'region',\n",
    "                auc_threshold = 0.05,\n",
    "                normalize = False,\n",
    "                n_cpu = 5)\n",
    "score_eRegulons(scplus_obj,\n",
    "                gene_ranking,\n",
    "                eRegulon_signatures_key = 'eRegulon_signatures_filtered',\n",
    "                key_added = 'eRegulon_AUC_filtered',\n",
    "                enrichment_type = 'gene',\n",
    "                auc_threshold = 0.05,\n",
    "                normalize= False,\n",
    "                n_cpu = 5)"
   ]
  },
  {
   "cell_type": "markdown",
   "id": "9e0b5db4-c1ea-421f-b33b-060e32df3910",
   "metadata": {},
   "source": [
    "## eRegulon dimensionality reduction"
   ]
  },
  {
   "cell_type": "code",
   "execution_count": null,
   "id": "cc98e8fd-ad03-480b-9ad5-31775000dfa9",
   "metadata": {},
   "outputs": [],
   "source": [
    "from scenicplus.dimensionality_reduction import run_eRegulons_tsne, run_eRegulons_umap\n",
    "run_eRegulons_umap(\n",
    "    scplus_obj = scplus_obj,\n",
    "    auc_key = 'eRegulon_AUC_filtered',\n",
    "    reduction_name = 'eRegulons_UMAP', #overwrite previously calculated UMAP\n",
    ")\n",
    "run_eRegulons_tsne(\n",
    "    scplus_obj = scplus_obj,\n",
    "    auc_key = 'eRegulon_AUC_filtered',\n",
    "    reduction_name = 'eRegulons_tSNE', #overwrite previously calculated tSNE\n",
    ")"
   ]
  },
  {
   "cell_type": "code",
   "execution_count": null,
   "id": "3ebc643a-1c59-41cc-9d47-877bdbf9f4b7",
   "metadata": {},
   "outputs": [],
   "source": [
    "scplus_obj.metadata_cell['Cellstate']"
   ]
  },
  {
   "cell_type": "code",
   "execution_count": null,
   "id": "fb272a27-0e85-4ea3-8d8e-1895aa5c40f2",
   "metadata": {},
   "outputs": [],
   "source": [
    "\n",
    "adata = anndata.AnnData(obs=scplus_obj.metadata_cell[['Cellstate']],\n",
    "                        obsm={'X_tsne':scplus_obj.dr_cell['eRegulons_tSNE'].values}\n",
    "                       )\n",
    "adata.obs['Cellstate'] = pd.Categorical(adata.obs['Cellstate'])\n",
    "adata.uns['Cellstate_colors'] =[ COLOR_PAlETTE['Cellstate'][x] for x in adata.obs['Cellstate'].cat.categories]\n",
    "sc.pl.tsne(adata,color=['Cellstate'],\n",
    "           title=[f\"Transcriptional factors and expression of their target genes (eRegulons)\\n(N={adata.shape[0]:,})\"])"
   ]
  },
  {
   "cell_type": "code",
   "execution_count": null,
   "id": "c3c53e63-5ece-49d4-9dd3-0c9dd4d73682",
   "metadata": {},
   "outputs": [],
   "source": [
    "from scenicplus.dimensionality_reduction import plot_metadata_given_ax\n",
    "import matplotlib.pyplot as plt\n",
    "import seaborn as sns\n",
    "%matplotlib inline\n",
    "\n",
    "#specify color_dictionary\n",
    "\n",
    "\n",
    "fig, axs = plt.subplots(ncols=2, figsize = (16, 8))\n",
    "plot_metadata_given_ax(\n",
    "    scplus_obj=scplus_obj,\n",
    "    ax = axs[0],\n",
    "    reduction_name = 'eRegulons_UMAP',\n",
    "    variable = 'Cellstate', #note the GEX_ prefix, this metadata originated from the gene expression metadata (on which we did the cell type annotation before)\n",
    "    # color_dictionary={'GEX_celltype': color_dict}\n",
    ")\n",
    "plot_metadata_given_ax(\n",
    "    scplus_obj=scplus_obj,\n",
    "    ax = axs[1],\n",
    "    reduction_name = 'eRegulons_tSNE',\n",
    "    variable = 'Cellstate', #note the GEX_ prefix, this metadata originated from the gene expression metadata (on which we did the cell type annotation before)\n",
    "    # color_dictionary={'GEX_celltype': color_dict}\n",
    ")\n",
    "fig.tight_layout()\n",
    "sns.despine(ax = axs[0]) #remove top and right edge of axis border\n",
    "sns.despine(ax = axs[1]) #remove top and right edge of axis border\n",
    "plt.show()"
   ]
  },
  {
   "cell_type": "markdown",
   "id": "187792d3-e5da-4167-86f0-3c2c6d66d469",
   "metadata": {},
   "source": [
    "## correlation between TF expression and target region enrichment scores (AUC values)"
   ]
  },
  {
   "cell_type": "code",
   "execution_count": null,
   "id": "dc1998de-5688-43d6-b099-c201faa661ae",
   "metadata": {},
   "outputs": [],
   "source": [
    "from scenicplus.cistromes import TF_cistrome_correlation, generate_pseudobulks\n",
    "\n",
    "generate_pseudobulks(\n",
    "        scplus_obj = scplus_obj,\n",
    "        variable = 'Cellstate',\n",
    "        auc_key = 'eRegulon_AUC_filtered',\n",
    "        signature_key = 'Gene_based')\n",
    "generate_pseudobulks(\n",
    "        scplus_obj = scplus_obj,\n",
    "        variable = 'Cellstate',\n",
    "        auc_key = 'eRegulon_AUC_filtered',\n",
    "        signature_key = 'Region_based')\n",
    "\n",
    "TF_cistrome_correlation(\n",
    "            scplus_obj,\n",
    "            use_pseudobulk = True,\n",
    "            variable = 'Cellstate',\n",
    "            auc_key = 'eRegulon_AUC_filtered',\n",
    "            signature_key = 'Gene_based',\n",
    "            out_key = 'filtered_gene_based')\n",
    "TF_cistrome_correlation(\n",
    "            scplus_obj,\n",
    "            use_pseudobulk = True,\n",
    "            variable = 'Cellstate',\n",
    "            auc_key = 'eRegulon_AUC_filtered',\n",
    "            signature_key = 'Region_based',\n",
    "            out_key = 'filtered_region_based')"
   ]
  },
  {
   "cell_type": "markdown",
   "id": "db5e525c-2c00-4189-bedb-1e91bff9c26b",
   "metadata": {},
   "source": [
    "## select eRegulons for which the correlaiton coefficient is above 0.70 or below -0.75"
   ]
  },
  {
   "cell_type": "code",
   "execution_count": null,
   "id": "064e9976-be4b-427f-bea6-b246dc107450",
   "metadata": {},
   "outputs": [],
   "source": [
    "import numpy as np\n",
    "n_targets = [int(x.split('(')[1].replace('r)', '')) for x in scplus_obj.uns['TF_cistrome_correlation']['filtered_region_based']['Cistrome']]\n",
    "rho = scplus_obj.uns['TF_cistrome_correlation']['filtered_region_based']['Rho'].to_list()\n",
    "adj_pval = scplus_obj.uns['TF_cistrome_correlation']['filtered_region_based']['Adjusted_p-value'].to_list()\n",
    "\n",
    "thresholds = {\n",
    "        'rho': [-0.75, 0.70],\n",
    "        'n_targets': 0\n",
    "}\n",
    "import seaborn as sns\n",
    "fig, ax = plt.subplots(figsize = (10, 5))\n",
    "sc = ax.scatter(rho, n_targets, c = -np.log10(adj_pval), s = 5)\n",
    "ax.set_xlabel('Correlation coefficient')\n",
    "ax.set_ylabel('nr. target regions')\n",
    "#ax.hlines(y = thresholds['n_targets'], xmin = min(rho), xmax = max(rho), color = 'black', ls = 'dashed', lw = 1)\n",
    "ax.vlines(x = thresholds['rho'], ymin = 0, ymax = max(n_targets), color = 'black', ls = 'dashed', lw = 1)\n",
    "ax.text(x = thresholds['rho'][0], y = max(n_targets), s = str(thresholds['rho'][0]))\n",
    "ax.text(x = thresholds['rho'][1], y = max(n_targets), s = str(thresholds['rho'][1]))\n",
    "sns.despine(ax = ax)\n",
    "fig.colorbar(sc, label = '-log10(adjusted_pvalue)', ax = ax)\n",
    "plt.show()"
   ]
  },
  {
   "cell_type": "markdown",
   "id": "56e84893-1279-4236-8ef6-84efd715e27c",
   "metadata": {},
   "source": [
    "## Overlap of predicted target regions"
   ]
  },
  {
   "cell_type": "code",
   "execution_count": null,
   "id": "7c397f0b-8026-4783-90ed-1ee3425921b9",
   "metadata": {},
   "outputs": [],
   "source": [
    "selected_cistromes = scplus_obj.uns['TF_cistrome_correlation']['filtered_region_based'].loc[\n",
    "        np.logical_or(\n",
    "                scplus_obj.uns['TF_cistrome_correlation']['filtered_region_based']['Rho'] > thresholds['rho'][1],\n",
    "                scplus_obj.uns['TF_cistrome_correlation']['filtered_region_based']['Rho'] < thresholds['rho'][0]\n",
    "        )]['Cistrome'].to_list()\n",
    "selected_eRegulons = [x.split('_(')[0] for x in selected_cistromes]\n",
    "selected_eRegulons_gene_sig = [\n",
    "        x for x in scplus_obj.uns['eRegulon_signatures_filtered']['Gene_based'].keys()\n",
    "        if x.split('_(')[0] in selected_eRegulons]\n",
    "selected_eRegulons_region_sig = [\n",
    "        x for x in scplus_obj.uns['eRegulon_signatures_filtered']['Region_based'].keys()\n",
    "        if x.split('_(')[0] in selected_eRegulons]\n",
    "#save the results in the scenicplus object\n",
    "scplus_obj.uns['selected_eRegulon'] = {'Gene_based': selected_eRegulons_gene_sig, 'Region_based': selected_eRegulons_region_sig}\n",
    "print(f'selected: {len(selected_eRegulons_gene_sig)} eRegulons')"
   ]
  },
  {
   "cell_type": "markdown",
   "id": "f8107618-44fc-406c-8b6b-b94356842866",
   "metadata": {},
   "source": [
    "## Overlap of target regions of the top 5 TFs per cell type based on the Regulon Specificity Score (RSS)."
   ]
  },
  {
   "cell_type": "code",
   "execution_count": null,
   "id": "b6ddf28e-84d8-4715-875b-e4b3fde06124",
   "metadata": {},
   "outputs": [],
   "source": [
    "from scenicplus.RSS import *\n",
    "regulon_specificity_scores(\n",
    "        scplus_obj,\n",
    "        variable = 'Cellstate',\n",
    "        auc_key = 'eRegulon_AUC_filtered',\n",
    "        signature_keys = ['Region_based'],\n",
    "        selected_regulons = [x for x in scplus_obj.uns['selected_eRegulon']['Region_based'] if '-' not in x],\n",
    "        out_key_suffix = '_filtered')"
   ]
  },
  {
   "cell_type": "code",
   "execution_count": null,
   "id": "9366ffb8-461a-4228-bd16-c36ddcdf27a7",
   "metadata": {},
   "outputs": [],
   "source": [
    "plot_rss(scplus_obj, 'Cellstate_filtered', num_columns=2, top_n=5, figsize = (20, 20))"
   ]
  },
  {
   "cell_type": "code",
   "execution_count": null,
   "id": "70a4d8f3-604e-42c6-b4db-2cf010870311",
   "metadata": {},
   "outputs": [],
   "source": [
    "scplus_obj.uns['selected_eRegulon']['Gene_based']"
   ]
  },
  {
   "cell_type": "code",
   "execution_count": null,
   "id": "74a9bbbc-3e02-49df-a902-55e40448fcea",
   "metadata": {},
   "outputs": [],
   "source": [
    "from scenicplus.plotting.dotplot import generate_dotplot_df\n",
    "dotplot_df=generate_dotplot_df(\n",
    "     scplus_obj = scplus_obj,\n",
    "        size_matrix = scplus_obj.uns['eRegulon_AUC_filtered']['Region_based'], #specify what to plot as dot sizes, target region enrichment in this case\n",
    "        color_matrix = scplus_obj.to_df('EXP'), #specify  what to plot as colors, TF expression in this case\n",
    "        scale_size_matrix = True,\n",
    "        scale_color_matrix = True,\n",
    "        group_variable = 'Cellstate',\n",
    "        subset_eRegulons = scplus_obj.uns['selected_eRegulon']['Gene_based']\n",
    ")"
   ]
  },
  {
   "cell_type": "code",
   "execution_count": null,
   "id": "73458ff3-4f8d-479e-b0f2-66b053e99fb6",
   "metadata": {},
   "outputs": [],
   "source": [
    "size_val='Target region enrichment\\n(Scaled)'\n",
    "color_val='TF expression\\n(Scaled)'\n",
    "dotplot_df.rename(columns={\n",
    "    'size_val':size_val,\n",
    "    'color_val':color_val\n",
    "},inplace=True)"
   ]
  },
  {
   "cell_type": "code",
   "execution_count": null,
   "id": "44823a05-1484-4e4c-affd-31ee9a1b4272",
   "metadata": {},
   "outputs": [],
   "source": [
    "\n",
    "from PyComplexHeatmap import DotClustermapPlotter\n",
    "plt.figure(figsize=(3, 3),dpi=150)\n",
    "df_col = dotplot_df[['index']].drop_duplicates().set_index('index')\n",
    "df_col['Cellstate'] = df_col.index\n",
    "col_ha = HeatmapAnnotation(\n",
    "                           label=anno_label(df_col['Cellstate'],\n",
    "                                                 colors={k:v for k,v in COLOR_PAlETTE['Cellstate'].items() if k in df_col['Cellstate']},\n",
    "                                                 merge=True,rotation=45),\n",
    "                           Cellstate=anno_simple(df_col['Cellstate'],\n",
    "                                                 colors={k:v for k,v in COLOR_PAlETTE['Cellstate'].items() if k in df_col['Cellstate']},\n",
    "                                                 legend=False),\n",
    "                           verbose=0,label_side='left')\n",
    "\n",
    "cm = DotClustermapPlotter(data=dotplot_df, x='index',y='eRegulon_name',value=color_val,c=color_val,s=size_val,\n",
    "                          row_cluster=True,col_cluster=True,spines=True,\n",
    "                          cmap='RdYlGn_r',ratio=200,dot_legend_kws={'frameon':False},\n",
    "                         top_annotation=col_ha,show_rownames=True,row_names_side='left')"
   ]
  },
  {
   "cell_type": "markdown",
   "id": "de3d02c9-41d7-4fa0-bcea-550e5cb22324",
   "metadata": {},
   "source": [
    "## Coverage plot"
   ]
  },
  {
   "cell_type": "code",
   "execution_count": null,
   "id": "7c87f59d-5832-423d-a39a-6fdeb408d12d",
   "metadata": {},
   "outputs": [],
   "source": [
    "tumor_MP_gmt_path = f'{RESULT_TABLE}/MPs/Tumor/MP_Programs.gmt'\n",
    "tumor_MP_anno_path = f'{RESULT_TABLE}/MPs/Tumor/MetaProgram_Annotation.csv'\n",
    "ref_ITH=pd.read_table(tumor_MP_gmt_path,header=None,index_col=0).drop([1],axis=1).T\n",
    "ref_anno = pd.read_csv(tumor_MP_anno_path)\n",
    "MP_anno_map = ref_anno[['MetaProgram','MPs']].drop_duplicates().set_index('MetaProgram')['MPs'].to_dict()\n",
    "ref_ITH.columns = ref_ITH.columns.map(MP_anno_map)"
   ]
  },
  {
   "cell_type": "code",
   "execution_count": null,
   "id": "debf2f08-4b71-4144-9d00-3311af6c548b",
   "metadata": {},
   "outputs": [],
   "source": [
    "scplus_obj.uns.keys()"
   ]
  },
  {
   "cell_type": "code",
   "execution_count": null,
   "id": "47c268db-cfe5-40e1-b783-d5ff180d1383",
   "metadata": {},
   "outputs": [],
   "source": [
    "from scenicplus.plotting.coverageplot import coverage_plot\n",
    "import pyranges as pr"
   ]
  },
  {
   "cell_type": "code",
   "execution_count": null,
   "id": "23a1e185-1623-48a7-8967-676ef42cbb13",
   "metadata": {},
   "outputs": [],
   "source": [
    "pr_gtf = pr.read_gtf(f\"{EXTERNAL_DATA}/gencode.v32.annotation.gtf.gz\")\n",
    "pr_consensus_bed = pr.read_bed(f'{RESULT_TABLE}/Consensus_Peaks/consensus_regions.bed')"
   ]
  },
  {
   "cell_type": "code",
   "execution_count": null,
   "id": "c3b29517-fc66-4206-b7e2-737901c88828",
   "metadata": {},
   "outputs": [],
   "source": [
    " scplus_obj.uns.keys()"
   ]
  },
  {
   "cell_type": "code",
   "execution_count": null,
   "id": "f6c882cc-6e31-4060-adf3-e642a44075b3",
   "metadata": {},
   "outputs": [],
   "source": [
    "from scenicplus.utils import get_interaction_pr\n",
    "pr_interact = get_interaction_pr(scplus_obj, 'hsapiens', 'hg38', inplace = False, subset_for_eRegulons_regions = True, eRegulons_key = 'eRegulons')"
   ]
  },
  {
   "cell_type": "code",
   "execution_count": null,
   "id": "20827ce7-2d50-49e2-9d53-bbda6750ef71",
   "metadata": {},
   "outputs": [],
   "source": [
    "scplus_obj.metadata_cell['Cellstate_format'] = scplus_obj.metadata_cell['Cellstate'].str.replace('[.+()-/\\ ]','_')\n",
    "cellstate_maps = scplus_obj.metadata_cell[['Cellstate','Cellstate_format']].drop_duplicates().set_index('Cellstate')['Cellstate_format'].to_dict()\n",
    "bw_dict  = {\n",
    "    os.path.basename(x).replace('.bw',''):x \n",
    "    for x in glob.glob(f'{RESULT_TABLE}/Consensus_Peaks/consensus_peak_calling/pseudobulk_bw_files/*.bw') if os.path.basename(x).replace('.bw','') in scplus_obj.metadata_cell['Cellstate_format'].unique()\n",
    "}"
   ]
  },
  {
   "cell_type": "code",
   "execution_count": null,
   "id": "490ae0ea-0916-4ffd-8bfa-bd6b57ab0d27",
   "metadata": {},
   "outputs": [],
   "source": [
    "tf_df = scplus_obj.uns['eRegulon_metadata_filtered']\n",
    "tf_df = tf_df.loc[tf_df.Gene.isin(ref_ITH['EMT-III'].tolist()),:]\n",
    "show_tf = tf_df.loc[tf_df.Region_signature_name=='TCF7L2_+_(325r)',:]\n",
    "show_tf.sort_values('R2G_importance',ascending=False)"
   ]
  },
  {
   "cell_type": "markdown",
   "id": "bafc7b0d-7b67-4f67-a332-928d2d5ee2d6",
   "metadata": {},
   "source": [
    "### EMT-III genes related regulons"
   ]
  },
  {
   "cell_type": "code",
   "execution_count": null,
   "id": "a1f24bb1-77fe-4204-b95c-df7910f20df7",
   "metadata": {},
   "outputs": [],
   "source": [
    "color_dict = { cellstate_maps[k]:v for k,v in COLOR_PAlETTE['Cellstate'].items() if k in cellstate_maps}\n",
    "fig = coverage_plot(scplus_obj,bw_dict=bw_dict,region='chr1:214374838-214604382',\n",
    "                    pr_gtf=pr_gtf,pr_interact = pr_interact,pr_consensus_bed=pr_consensus_bed,\n",
    "                    genes_violin_plot=['TCF7L2','PTPN14'],meta_data_key='Cellstate_format',\n",
    "                    plot_order=['Tumor_EMT_III','Tumor_Cell_Cycle','Tumor_ER_I','Tumor_EMT_II','Tumor_ER_II'],\n",
    "                    color_dict=color_dict,\n",
    "                    figsize = (12,12),\n",
    "                    region_bed_height=0.1,\n",
    "                    gene_label_offset=30,\n",
    "                    fontsize_dict={'bigwig_label': 15, 'title': 15,\n",
    "                                   'bigwig_tick_label': 5,'gene_label': 9, 'violinplots_xlabel': 9, 'violinplots_ylabel': 9},\n",
    "                    width_ratios_dict={'bigwig': 4, 'violinplots': 1},\n",
    "                    height_ratios_dict = {'bigwig_violin': 10, 'genes': 0.5, 'arcs': 20})"
   ]
  },
  {
   "cell_type": "code",
   "execution_count": null,
   "id": "7f50902a-c787-42ba-87a2-6d1a38043113",
   "metadata": {},
   "outputs": [],
   "source": [
    "color_dict = { cellstate_maps[k]:v for k,v in COLOR_PAlETTE['Cellstate'].items() if k in cellstate_maps}\n",
    "fig = coverage_plot(scplus_obj,bw_dict=bw_dict,region='chr6:56670820-56673320',\n",
    "                    pr_gtf=pr_gtf,pr_interact = pr_interact,pr_consensus_bed=pr_consensus_bed,\n",
    "                    genes_violin_plot=['TCF7L2','DST'],meta_data_key='Cellstate_format',\n",
    "                    plot_order=['Tumor_EMT_III','Tumor_Cell_Cycle','Tumor_ER_I','Tumor_EMT_II','Tumor_ER_II'],\n",
    "                    color_dict=color_dict,\n",
    "                    figsize = (12,12),\n",
    "                    region_bed_height=0.1,\n",
    "                    gene_label_offset=30,\n",
    "                    fontsize_dict={'bigwig_label': 15, 'title': 15,\n",
    "                                   'bigwig_tick_label': 5,'gene_label': 9, 'violinplots_xlabel': 9, 'violinplots_ylabel': 9},\n",
    "                    width_ratios_dict={'bigwig': 4, 'violinplots': 1},\n",
    "                    height_ratios_dict = {'bigwig_violin': 10, 'genes': 0.5, 'arcs': 20})"
   ]
  },
  {
   "cell_type": "markdown",
   "id": "e99a9532-8648-4612-9bff-72f49d387899",
   "metadata": {},
   "source": [
    "### Uniuqe regulons in EMT-III"
   ]
  },
  {
   "cell_type": "code",
   "execution_count": null,
   "id": "7cff8c32-4c47-4c77-bca2-afb700fb18ea",
   "metadata": {},
   "outputs": [],
   "source": [
    "color_dict = { cellstate_maps[k]:v for k,v in COLOR_PAlETTE['Cellstate'].items() if k in cellstate_maps}\n",
    "fig = coverage_plot(scplus_obj,bw_dict=bw_dict,region='chr17:42312698-42333198',\n",
    "                    pr_gtf=pr_gtf,pr_interact = pr_interact,pr_consensus_bed=pr_consensus_bed,\n",
    "                    genes_violin_plot=['TCF7L2','STAT3'],meta_data_key='Cellstate_format',\n",
    "                    plot_order=['Tumor_EMT_III','Tumor_Cell_Cycle','Tumor_ER_I','Tumor_EMT_II','Tumor_ER_II'],\n",
    "                    color_dict=color_dict,\n",
    "                    figsize = (12,12),\n",
    "                    region_bed_height=0.1,\n",
    "                    gene_label_offset=30,\n",
    "                    width_ratios_dict={'bigwig': 4, 'violinplots': 1},\n",
    "                    height_ratios_dict = {'bigwig_violin': 10, 'genes': 0.5, 'arcs': 5})"
   ]
  },
  {
   "cell_type": "code",
   "execution_count": null,
   "id": "c5dad2dd-af53-4099-97bc-954e8d4cb8ad",
   "metadata": {},
   "outputs": [],
   "source": [
    "color_dict = { cellstate_maps[k]:v for k,v in COLOR_PAlETTE['Cellstate'].items() if k in cellstate_maps}\n",
    "fig = coverage_plot(scplus_obj,bw_dict=bw_dict,region='chrX:6218698-6239198',\n",
    "                    genes_violin_plot=['TCF7L2','NLGN4X'],meta_data_key='Cellstate_format',\n",
    "                    pr_gtf=pr_gtf,pr_interact = pr_interact,pr_consensus_bed=pr_consensus_bed,\n",
    "                    plot_order=['Tumor_EMT_III','Tumor_Cell_Cycle','Tumor_ER_I','Tumor_EMT_II','Tumor_ER_II'],\n",
    "                    color_dict=color_dict,\n",
    "                    figsize = (12,12),\n",
    "                    region_bed_height=0.1,\n",
    "                    gene_label_offset=30,\n",
    "                    width_ratios_dict={'bigwig': 4, 'violinplots': 1},\n",
    "                    height_ratios_dict = {'bigwig_violin': 10, 'genes': 0.5, 'arcs': 5})"
   ]
  },
  {
   "cell_type": "markdown",
   "id": "68914f4f-9640-4dc7-b040-af94a4b46596",
   "metadata": {},
   "source": [
    "#### NOTCH1"
   ]
  },
  {
   "cell_type": "code",
   "execution_count": null,
   "id": "80087440-3506-4c8a-b04b-e16d0c863abb",
   "metadata": {},
   "outputs": [],
   "source": [
    "show_tf.loc[show_tf.Gene.isin(['NOTCH1']),:].sort_values('Region')"
   ]
  },
  {
   "cell_type": "code",
   "execution_count": null,
   "id": "e5087dd2-3800-43f4-9808-5beefd1fa360",
   "metadata": {},
   "outputs": [],
   "source": [
    "color_dict = { cellstate_maps[k]:v for k,v in COLOR_PAlETTE['Cellstate'].items() if k in cellstate_maps}\n",
    "fig = coverage_plot(scplus_obj,bw_dict=bw_dict,region='chr9:136484572-136565370',\n",
    "                    pr_gtf=pr_gtf,pr_interact = pr_interact,pr_consensus_bed=pr_consensus_bed,\n",
    "                    genes_violin_plot=['TCF7L2','NOTCH1'],meta_data_key='Cellstate_format',\n",
    "                    plot_order=['Tumor_EMT_III','Tumor_Cell_Cycle','Tumor_ER_I','Tumor_EMT_II','Tumor_ER_II'],\n",
    "                    color_dict=color_dict,\n",
    "                    figsize = (12,12),\n",
    "                    region_bed_height=0.1,\n",
    "                    gene_label_offset=30,\n",
    "                    width_ratios_dict={'bigwig': 4, 'violinplots': 1},\n",
    "                    height_ratios_dict = {'bigwig_violin': 10, 'genes': 0.5, 'arcs': 10})"
   ]
  },
  {
   "cell_type": "markdown",
   "id": "75190a2e-1a9c-470a-a9e3-2793d3f248ab",
   "metadata": {},
   "source": [
    "### ER-I"
   ]
  },
  {
   "cell_type": "markdown",
   "id": "2f28c780-62fa-4221-bfce-11dd1be7c292",
   "metadata": {},
   "source": [
    "#### ESR1_+_(307r)"
   ]
  },
  {
   "cell_type": "code",
   "execution_count": null,
   "id": "6938e9ea-a195-415b-a67e-968794dc3c7b",
   "metadata": {},
   "outputs": [],
   "source": [
    "tf_df = scplus_obj.uns['eRegulon_metadata_filtered']\n",
    "tf_df = tf_df.loc[tf_df.Gene.isin(ref_ITH['ER-I'].tolist()),:]\n",
    "show_tf = tf_df.loc[tf_df.Region_signature_name=='ESR1_+_(307r)',:]\n",
    "show_tf.sort_values('R2G_importance',ascending=False)"
   ]
  },
  {
   "cell_type": "code",
   "execution_count": null,
   "id": "95ecadbf-0e63-4198-b2a5-4dec4b96ce40",
   "metadata": {},
   "outputs": [],
   "source": [
    "color_dict = { cellstate_maps[k]:v for k,v in COLOR_PAlETTE['Cellstate'].items() if k in cellstate_maps}\n",
    "fig = coverage_plot(scplus_obj,bw_dict=bw_dict,region='chr7:41960949-42264100',\n",
    "                    pr_gtf=pr_gtf,pr_consensus_bed=pr_consensus_bed,pr_interact = pr_interact,\n",
    "                    genes_violin_plot=['ESR1','GLI3'],meta_data_key='Cellstate_format',\n",
    "                    plot_order=['Tumor_ER_I','Tumor_EMT_III','Tumor_Cell_Cycle','Tumor_EMT_II','Tumor_ER_II'],\n",
    "                    color_dict=color_dict,\n",
    "                    figsize = (12,12),\n",
    "                    region_bed_height=0.1,\n",
    "                    gene_label_offset=30,\n",
    "                    fontsize_dict={'bigwig_label': 15, 'title': 15,\n",
    "                                   'bigwig_tick_label': 5,'gene_label': 9, 'violinplots_xlabel': 9, 'violinplots_ylabel': 9},\n",
    "                    width_ratios_dict={'bigwig': 4, 'violinplots': 1},\n",
    "                    height_ratios_dict = {'bigwig_violin': 10, 'genes': 0.5, 'arcs': 10})"
   ]
  },
  {
   "cell_type": "code",
   "execution_count": null,
   "id": "003f905f-095f-46d1-ad8e-c827a852ec5d",
   "metadata": {},
   "outputs": [],
   "source": [
    "color_dict = { cellstate_maps[k]:v for k,v in COLOR_PAlETTE['Cellstate'].items() if k in cellstate_maps}\n",
    "fig = coverage_plot(scplus_obj,bw_dict=bw_dict,region='chr14:37582844-37613344',\n",
    "                    pr_gtf=pr_gtf,pr_consensus_bed=pr_consensus_bed,pr_interact = pr_interact,\n",
    "                    genes_violin_plot=['ESR1','TTC6'],meta_data_key='Cellstate_format',\n",
    "                    plot_order=['Tumor_ER_I','Tumor_EMT_III','Tumor_Cell_Cycle','Tumor_EMT_II','Tumor_ER_II'],\n",
    "                    color_dict=color_dict,\n",
    "                    figsize = (12,12),\n",
    "                    region_bed_height=0.1,\n",
    "                    gene_label_offset=30,\n",
    "                    width_ratios_dict={'bigwig': 4, 'violinplots': 1},\n",
    "                    height_ratios_dict = {'bigwig_violin': 10, 'genes': 0.5, 'arcs': 10})"
   ]
  },
  {
   "cell_type": "markdown",
   "id": "3a0b7747-0f16-4b7f-a8d3-8dcbb3f3a795",
   "metadata": {},
   "source": [
    "#### GATA3_+_(95r)"
   ]
  },
  {
   "cell_type": "code",
   "execution_count": null,
   "id": "c265f8a8-33c1-4063-a5a2-f517ccd5f341",
   "metadata": {},
   "outputs": [],
   "source": [
    "tf_df = scplus_obj.uns['eRegulon_metadata_filtered']\n",
    "tf_df = tf_df.loc[tf_df.Gene.isin(ref_ITH['ER-I'].tolist()),:]\n",
    "show_tf = tf_df.loc[tf_df.Region_signature_name=='GATA3_+_(95r)',:]\n",
    "show_tf.sort_values('R2G_importance',ascending=False)"
   ]
  },
  {
   "cell_type": "code",
   "execution_count": null,
   "id": "16bbed02-421e-4824-934a-185a94dfb2a0",
   "metadata": {},
   "outputs": [],
   "source": [
    "color_dict = { cellstate_maps[k]:v for k,v in COLOR_PAlETTE['Cellstate'].items() if k in cellstate_maps}\n",
    "fig = coverage_plot(scplus_obj,bw_dict=bw_dict,region='chr14:37582844-37613344',\n",
    "                    pr_gtf=pr_gtf,pr_consensus_bed=pr_consensus_bed,pr_interact = pr_interact,\n",
    "                    genes_violin_plot=['GATA3','ESR1','TTC6'],meta_data_key='Cellstate_format',\n",
    "                    plot_order=['Tumor_ER_I','Tumor_EMT_III','Tumor_Cell_Cycle','Tumor_EMT_II','Tumor_ER_II'],\n",
    "                    color_dict=color_dict,\n",
    "                    figsize = (12,12),\n",
    "                    region_bed_height=0.1,\n",
    "                    gene_label_offset=30,\n",
    "                    fontsize_dict={'bigwig_label': 15, 'title': 15,\n",
    "                                   'bigwig_tick_label': 5,'gene_label': 9, 'violinplots_xlabel': 9, 'violinplots_ylabel': 9},\n",
    "                    width_ratios_dict={'bigwig': 4, 'violinplots': 1},\n",
    "                    height_ratios_dict = {'bigwig_violin': 10, 'genes': 0.5, 'arcs': 10})"
   ]
  },
  {
   "cell_type": "code",
   "execution_count": null,
   "id": "65a7f884-4887-4ce7-8668-c5fd40ded14d",
   "metadata": {},
   "outputs": [],
   "source": []
  }
 ],
 "metadata": {
  "kernelspec": {
   "display_name": "scpipe",
   "language": "python",
   "name": "scpipe"
  },
  "language_info": {
   "codemirror_mode": {
    "name": "ipython",
    "version": 3
   },
   "file_extension": ".py",
   "mimetype": "text/x-python",
   "name": "python",
   "nbconvert_exporter": "python",
   "pygments_lexer": "ipython3",
   "version": "3.8.12"
  }
 },
 "nbformat": 4,
 "nbformat_minor": 5
}
