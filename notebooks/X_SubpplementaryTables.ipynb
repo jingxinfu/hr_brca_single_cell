{
 "cells": [
  {
   "cell_type": "code",
   "execution_count": 1,
   "id": "1da8ef61-4106-4c01-bcfe-cdb2a74beb1f",
   "metadata": {},
   "outputs": [],
   "source": [
    "REPO = '../..'\n",
    "Manuscript_RESULT = f'{REPO}/data/result/manuscript_table/'\n",
    "\n",
    "\n",
    "import pandas as pd\n",
    "import warnings\n",
    "%load_ext autoreload\n",
    "%autoreload 2\n",
    "%matplotlib inline"
   ]
  },
  {
   "cell_type": "code",
   "execution_count": 6,
   "id": "60fd6d33-e263-46f0-acb4-ff35ef00ec43",
   "metadata": {},
   "outputs": [],
   "source": [
    "output_file = f'{Manuscript_RESULT}/Supplementary Table 3.xlsx'"
   ]
  },
  {
   "cell_type": "code",
   "execution_count": 7,
   "id": "8764eb4e-b851-471b-a40f-056186aa7336",
   "metadata": {},
   "outputs": [],
   "source": [
    "a = pd.read_csv(f\"{Manuscript_RESULT}/multinichenetr_NR_vs_R_Baseline_Top3000_per_group.tsv\",sep='\\t')\n",
    "b =  pd.read_csv(f\"{Manuscript_RESULT}/multinichenetr_NR_vs_R_Delta_Top3000_per_group.tsv\",sep='\\t')"
   ]
  },
  {
   "cell_type": "code",
   "execution_count": 8,
   "id": "526fe08f-e977-44ff-a116-7c2fddf0024d",
   "metadata": {},
   "outputs": [],
   "source": [
    "with pd.ExcelWriter(output_file) as writer:  \n",
    "    a.to_excel(writer,sheet_name='Table 3A',index=False)\n",
    "    b.to_excel(writer,sheet_name='Table 3B',index=False)"
   ]
  },
  {
   "cell_type": "code",
   "execution_count": null,
   "id": "83d2e165-b524-4949-af99-5c5f8a8f0071",
   "metadata": {},
   "outputs": [],
   "source": []
  }
 ],
 "metadata": {
  "kernelspec": {
   "display_name": "scpipe",
   "language": "python",
   "name": "scpipe"
  },
  "language_info": {
   "codemirror_mode": {
    "name": "ipython",
    "version": 3
   },
   "file_extension": ".py",
   "mimetype": "text/x-python",
   "name": "python",
   "nbconvert_exporter": "python",
   "pygments_lexer": "ipython3",
   "version": "3.8.12"
  }
 },
 "nbformat": 4,
 "nbformat_minor": 5
}
