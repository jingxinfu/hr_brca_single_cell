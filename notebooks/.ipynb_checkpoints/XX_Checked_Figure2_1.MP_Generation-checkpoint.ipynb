{
 "cells": [
  {
   "cell_type": "code",
   "execution_count": 1,
   "metadata": {},
   "outputs": [],
   "source": [
    "REPO = '../'\n",
    "RESULT_TABLE = f'{REPO}/data/table'\n",
    "RESULT_OBJ = f'{REPO}/data/object'\n",
    "FIGURE_FOLDER= f'{REPO}/data/figure'\n",
    "SETTING_FOLDER = f'{REPO}/data/setting'\n",
    "EXTERNAL_DATA=f'{REPO}/data/external'\n",
    "# load Terra API for get data table from Terra\n",
    "import sys\n",
    "sys.path.append(REPO)\n",
    "from settings import COLOR_PAlETTE\n",
    "from utils.visual import *\n",
    "\n",
    "import scipy\n",
    "import numpy as np\n",
    "import pandas as pd\n",
    "import matplotlib.pyplot as plt\n",
    "import scPipe as sp\n",
    "import scanpy as sc\n",
    "import seaborn as sns\n",
    "\n",
    "import warnings\n",
    "import commentjson\n",
    "### Additional Colormap\n",
    "with open(f'{SETTING_FOLDER}/ColorMap.json','r') as f:\n",
    "    colormap = commentjson.load(f)\n",
    "COLOR_PAlETTE.update(colormap)\n",
    "plt.style.use(f'{REPO}/paper.mplstyle')\n",
    "warnings.filterwarnings(\"ignore\")\n",
    "%load_ext autoreload\n",
    "%autoreload 2\n",
    "%matplotlib inline"
   ]
  },
  {
   "cell_type": "code",
   "execution_count": 2,
   "metadata": {},
   "outputs": [
    {
     "name": "stdout",
     "output_type": "stream",
     "text": [
      "Detect N=65,206 tumor cells with high quality GEX profiles;\n",
      "max(% of mitocondrial reads): 5\n"
     ]
    }
   ],
   "source": [
    "adata = sc.read(f'{RESULT_OBJ}/gex_tumor.h5ad')\n",
    "print(f\"Detect N={adata.shape[0]:,} tumor cells with high quality GEX profiles;\")\n",
    "print(f\"max(% of mitocondrial reads): {adata.obs['pct_counts_mito'].max():.0f}\")\n",
    "sample_meta =  pd.read_excel(f'{RESULT_TABLE}/Supplementary Table 1.xlsx',index_col=0).replace(np.nan,'N/A')"
   ]
  },
  {
   "cell_type": "markdown",
   "metadata": {},
   "source": [
    "# Detect the robust recurrent program robustRPH\n",
    "\n",
    "- Run the workflow https://app.terra.bio/#workspaces/vanallen-firecloud-nih/HR_BrCa_16-466/workflows/jf_scpipe_rna/GEX_CohortSet_DetectRHP\n",
    "    - Here, we directly use the tumor h5ad as input\n",
    "- Get the basis and coef pickle files."
   ]
  },
  {
   "cell_type": "code",
   "execution_count": 3,
   "metadata": {},
   "outputs": [
    {
     "data": {
      "text/plain": [
       "'Generated 1,326 programs'"
      ]
     },
     "execution_count": 3,
     "metadata": {},
     "output_type": "execute_result"
    }
   ],
   "source": [
    "import pickle\n",
    "with open(f'{RESULT_TABLE}/MPs/Tumor/nmf_basis.pickle', \"rb\") as input_file:\n",
    "    programs_basis = pickle.load(input_file)\n",
    "\n",
    "with open(f'{RESULT_TABLE}/MPs/Tumor/nmf_coef.pickle', \"rb\") as input_file:\n",
    "    programs_coef = pickle.load(input_file)\n",
    "    \n",
    "n_programs = programs_basis[list(programs_basis.keys())[2]].shape[1] * len(programs_basis)\n",
    "f\"Generated {n_programs:,} programs\""
   ]
  },
  {
   "cell_type": "code",
   "execution_count": 4,
   "metadata": {},
   "outputs": [
    {
     "data": {
      "text/plain": [
       "'Out of 1,326 detected programs, 195 programs are robust.'"
      ]
     },
     "execution_count": 4,
     "metadata": {},
     "output_type": "execute_result"
    }
   ],
   "source": [
    "n_top=50\n",
    "# robustRPH = sp.ext.getRobustRHP(programs=programs_basis,\n",
    "#                          n_top=n_top,\n",
    "#                          intra_min = 35, inter_min = 10,intra_max = 10\n",
    "#                         )\n",
    "# with open(f'RESULT_TABLE}/MPs/Tumor/robustRPH.pickle', 'wb') as handle:\n",
    "#     pickle.dump(robustRPH, handle, protocol=pickle.HIGHEST_PROTOCOL)\n",
    "\n",
    "with open(f'{RESULT_TABLE}/MPs/Tumor/robustRPH.pickle', \"rb\") as input_file:\n",
    "    robustRPH = pickle.load(input_file)\n",
    "f\"Out of {n_programs:,} detected programs, {robustRPH.shape[1]} programs are robust.\""
   ]
  },
  {
   "cell_type": "markdown",
   "metadata": {},
   "source": [
    "## Get a list of genes in the analysis"
   ]
  },
  {
   "cell_type": "code",
   "execution_count": 5,
   "metadata": {},
   "outputs": [],
   "source": [
    "bg_genes = pd.Index([])\n",
    "for k,v in programs_basis.items():\n",
    "    bg_genes = v.index.union(bg_genes)"
   ]
  },
  {
   "cell_type": "markdown",
   "metadata": {},
   "source": [
    "## Customized clustering on the RPH\n",
    "\n",
    "### Look at how the n of samples in various timepoints and conditions\n"
   ]
  },
  {
   "cell_type": "code",
   "execution_count": 6,
   "metadata": {},
   "outputs": [
    {
     "data": {
      "text/html": [
       "<div>\n",
       "<style scoped>\n",
       "    .dataframe tbody tr th:only-of-type {\n",
       "        vertical-align: middle;\n",
       "    }\n",
       "\n",
       "    .dataframe tbody tr th {\n",
       "        vertical-align: top;\n",
       "    }\n",
       "\n",
       "    .dataframe thead th {\n",
       "        text-align: right;\n",
       "    }\n",
       "</style>\n",
       "<table border=\"1\" class=\"dataframe\">\n",
       "  <thead>\n",
       "    <tr style=\"text-align: right;\">\n",
       "      <th></th>\n",
       "      <th>BestResponse</th>\n",
       "      <th>favorable response\\n(RCB 0-I)</th>\n",
       "      <th>unfavorable response\\n(RCB II-III)</th>\n",
       "      <th>total</th>\n",
       "    </tr>\n",
       "    <tr>\n",
       "      <th>Treatment_Arm</th>\n",
       "      <th>Timepoint</th>\n",
       "      <th></th>\n",
       "      <th></th>\n",
       "      <th></th>\n",
       "    </tr>\n",
       "  </thead>\n",
       "  <tbody>\n",
       "    <tr>\n",
       "      <th rowspan=\"5\" valign=\"top\">Chemo-&gt;Combo</th>\n",
       "      <th>Baseline</th>\n",
       "      <td>1</td>\n",
       "      <td>3</td>\n",
       "      <td>4</td>\n",
       "    </tr>\n",
       "    <tr>\n",
       "      <th>Pre-surgery</th>\n",
       "      <td>0</td>\n",
       "      <td>2</td>\n",
       "      <td>2</td>\n",
       "    </tr>\n",
       "    <tr>\n",
       "      <th>Surgery</th>\n",
       "      <td>1</td>\n",
       "      <td>2</td>\n",
       "      <td>3</td>\n",
       "    </tr>\n",
       "    <tr>\n",
       "      <th>W3D1</th>\n",
       "      <td>2</td>\n",
       "      <td>3</td>\n",
       "      <td>5</td>\n",
       "    </tr>\n",
       "    <tr>\n",
       "      <th>W7D1</th>\n",
       "      <td>3</td>\n",
       "      <td>1</td>\n",
       "      <td>4</td>\n",
       "    </tr>\n",
       "    <tr>\n",
       "      <th rowspan=\"5\" valign=\"top\">ICI-&gt;Combo</th>\n",
       "      <th>Baseline</th>\n",
       "      <td>2</td>\n",
       "      <td>6</td>\n",
       "      <td>8</td>\n",
       "    </tr>\n",
       "    <tr>\n",
       "      <th>Pre-surgery</th>\n",
       "      <td>1</td>\n",
       "      <td>1</td>\n",
       "      <td>2</td>\n",
       "    </tr>\n",
       "    <tr>\n",
       "      <th>Surgery</th>\n",
       "      <td>0</td>\n",
       "      <td>4</td>\n",
       "      <td>4</td>\n",
       "    </tr>\n",
       "    <tr>\n",
       "      <th>W3D1</th>\n",
       "      <td>0</td>\n",
       "      <td>4</td>\n",
       "      <td>4</td>\n",
       "    </tr>\n",
       "    <tr>\n",
       "      <th>W7D1</th>\n",
       "      <td>1</td>\n",
       "      <td>3</td>\n",
       "      <td>4</td>\n",
       "    </tr>\n",
       "  </tbody>\n",
       "</table>\n",
       "</div>"
      ],
      "text/plain": [
       "BestResponse               favorable response\\n(RCB 0-I)  \\\n",
       "Treatment_Arm Timepoint                                    \n",
       "Chemo->Combo  Baseline                                 1   \n",
       "              Pre-surgery                              0   \n",
       "              Surgery                                  1   \n",
       "              W3D1                                     2   \n",
       "              W7D1                                     3   \n",
       "ICI->Combo    Baseline                                 2   \n",
       "              Pre-surgery                              1   \n",
       "              Surgery                                  0   \n",
       "              W3D1                                     0   \n",
       "              W7D1                                     1   \n",
       "\n",
       "BestResponse               unfavorable response\\n(RCB II-III)  total  \n",
       "Treatment_Arm Timepoint                                               \n",
       "Chemo->Combo  Baseline                                      3      4  \n",
       "              Pre-surgery                                   2      2  \n",
       "              Surgery                                       2      3  \n",
       "              W3D1                                          3      5  \n",
       "              W7D1                                          1      4  \n",
       "ICI->Combo    Baseline                                      6      8  \n",
       "              Pre-surgery                                   1      2  \n",
       "              Surgery                                       4      4  \n",
       "              W3D1                                          4      4  \n",
       "              W7D1                                          3      4  "
      ]
     },
     "execution_count": 6,
     "metadata": {},
     "output_type": "execute_result"
    }
   ],
   "source": [
    "sample_stats = pd.crosstab(index=[sample_meta['Treatment_Arm'],sample_meta['Timepoint']],\n",
    "            columns=sample_meta['BestResponse'])\n",
    "\n",
    "sample_stats['total'] =sample_stats.sum(axis=1)\n",
    "sample_stats"
   ]
  },
  {
   "cell_type": "markdown",
   "metadata": {},
   "source": [
    "### Perform the clustering\n",
    "\n",
    "as shown above, in timepoints Baseline, W3D1, W7D1, and AfterSurg, we have at least `2` samples per timepoints. Thus, we aimed to find metaprograms that at least shared among three samples and set the `Min_group_size` parameter to be `2`."
   ]
  },
  {
   "cell_type": "code",
   "execution_count": 7,
   "metadata": {},
   "outputs": [
    {
     "name": "stdout",
     "output_type": "stream",
     "text": [
      "[Processing]Cluster MP1 has 32 RPH programs.\n",
      "[Processing]Cluster MP2 has 24 RPH programs.\n",
      "[Processing]Cluster MP3 has 12 RPH programs.\n",
      "[Processing]Cluster MP4 has 7 RPH programs.\n",
      "[Processing]Cluster MP5 has 5 RPH programs.\n",
      "[Processing]Cluster MP6 has 6 RPH programs.\n",
      "[Processing]Cluster MP7 has 3 RPH programs.\n",
      "[Processing]Cluster MP8 has 5 RPH programs.\n",
      "[Processing]Cluster MP9 has 4 RPH programs.\n",
      "[Processing]Cluster MP10 has 4 RPH programs.\n",
      "[Processing]Cluster MP11 has 5 RPH programs.\n",
      "[Done] Generated 11 MP clusters which covered 55% robust RPH programs.\n"
     ]
    }
   ],
   "source": [
    "import palettable\n",
    "Cluster_Map,MP_Genesets,Programs_Order,MP_colors = sp.ext.clusterRobustRPH(\n",
    "    robustRPH=robustRPH,\n",
    "    programs_basis=programs_basis,\n",
    "    Min_group_size=2,\n",
    "    palette=palettable.tableau.Tableau_20.hex_colors + palettable.tableau.TrafficLight_9.hex_colors\n",
    ")"
   ]
  },
  {
   "cell_type": "markdown",
   "metadata": {},
   "source": [
    "### Look at MPs related to low data quality "
   ]
  },
  {
   "cell_type": "code",
   "execution_count": 8,
   "metadata": {},
   "outputs": [
    {
     "data": {
      "text/html": [
       "<div>\n",
       "<style scoped>\n",
       "    .dataframe tbody tr th:only-of-type {\n",
       "        vertical-align: middle;\n",
       "    }\n",
       "\n",
       "    .dataframe tbody tr th {\n",
       "        vertical-align: top;\n",
       "    }\n",
       "\n",
       "    .dataframe thead th {\n",
       "        text-align: right;\n",
       "    }\n",
       "</style>\n",
       "<table border=\"1\" class=\"dataframe\">\n",
       "  <thead>\n",
       "    <tr style=\"text-align: right;\">\n",
       "      <th></th>\n",
       "      <th>Mitochondrial</th>\n",
       "      <th>Ribosomal</th>\n",
       "    </tr>\n",
       "  </thead>\n",
       "  <tbody>\n",
       "    <tr>\n",
       "      <th>MP1</th>\n",
       "      <td>10</td>\n",
       "      <td>33</td>\n",
       "    </tr>\n",
       "    <tr>\n",
       "      <th>MP10</th>\n",
       "      <td>2</td>\n",
       "      <td>0</td>\n",
       "    </tr>\n",
       "    <tr>\n",
       "      <th>MP2</th>\n",
       "      <td>0</td>\n",
       "      <td>0</td>\n",
       "    </tr>\n",
       "    <tr>\n",
       "      <th>MP3</th>\n",
       "      <td>0</td>\n",
       "      <td>0</td>\n",
       "    </tr>\n",
       "    <tr>\n",
       "      <th>MP4</th>\n",
       "      <td>0</td>\n",
       "      <td>0</td>\n",
       "    </tr>\n",
       "    <tr>\n",
       "      <th>MP5</th>\n",
       "      <td>0</td>\n",
       "      <td>0</td>\n",
       "    </tr>\n",
       "    <tr>\n",
       "      <th>MP6</th>\n",
       "      <td>0</td>\n",
       "      <td>0</td>\n",
       "    </tr>\n",
       "    <tr>\n",
       "      <th>MP7</th>\n",
       "      <td>0</td>\n",
       "      <td>0</td>\n",
       "    </tr>\n",
       "    <tr>\n",
       "      <th>MP8</th>\n",
       "      <td>0</td>\n",
       "      <td>0</td>\n",
       "    </tr>\n",
       "    <tr>\n",
       "      <th>MP9</th>\n",
       "      <td>0</td>\n",
       "      <td>0</td>\n",
       "    </tr>\n",
       "    <tr>\n",
       "      <th>MP11</th>\n",
       "      <td>0</td>\n",
       "      <td>0</td>\n",
       "    </tr>\n",
       "  </tbody>\n",
       "</table>\n",
       "</div>"
      ],
      "text/plain": [
       "      Mitochondrial  Ribosomal\n",
       "MP1              10         33\n",
       "MP10              2          0\n",
       "MP2               0          0\n",
       "MP3               0          0\n",
       "MP4               0          0\n",
       "MP5               0          0\n",
       "MP6               0          0\n",
       "MP7               0          0\n",
       "MP8               0          0\n",
       "MP9               0          0\n",
       "MP11              0          0"
      ]
     },
     "metadata": {},
     "output_type": "display_data"
    }
   ],
   "source": [
    "display(pd.concat([\n",
    "    MP_Genesets.apply(lambda c:c.str.startswith('MT-').sum(),axis=0).rename('Mitochondrial'),\n",
    "    MP_Genesets.apply(lambda c:c.str.contains('^RP[LS]').sum(),axis=0).rename('Ribosomal')\n",
    "],axis=1).sort_values(['Mitochondrial','Ribosomal'],ascending=False))\n",
    "\n",
    "low_quality_mps = ['MP1']"
   ]
  },
  {
   "cell_type": "markdown",
   "metadata": {},
   "source": [
    "### Merge sample metadata into the clustering result"
   ]
  },
  {
   "cell_type": "code",
   "execution_count": 9,
   "metadata": {},
   "outputs": [],
   "source": [
    "anno = Cluster_Map.rename('MetaProgram').to_frame()\n",
    "anno['Sample'] = anno.index.map(lambda x: x.split('.')[0])\n",
    "anno = anno.reset_index().merge(sample_meta,left_on='Sample',right_on='CCG_ID',how='left').set_index('index')"
   ]
  },
  {
   "cell_type": "markdown",
   "metadata": {},
   "source": [
    "### explore the patient specific programs"
   ]
  },
  {
   "cell_type": "code",
   "execution_count": 10,
   "metadata": {},
   "outputs": [],
   "source": [
    "pt_specific = anno.groupby(['MetaProgram'])['Patient'].nunique().sort_values()\n",
    "pt_specific = pt_specific[pt_specific ==1].index.tolist()"
   ]
  },
  {
   "cell_type": "code",
   "execution_count": 11,
   "metadata": {},
   "outputs": [
    {
     "data": {
      "text/plain": [
       "Series([], Name: MetaProgram, dtype: int64)"
      ]
     },
     "execution_count": 11,
     "metadata": {},
     "output_type": "execute_result"
    }
   ],
   "source": [
    "anno['MetaProgram'].value_counts()[pt_specific]"
   ]
  },
  {
   "cell_type": "code",
   "execution_count": 12,
   "metadata": {},
   "outputs": [
    {
     "data": {
      "text/html": [
       "<div>\n",
       "<style scoped>\n",
       "    .dataframe tbody tr th:only-of-type {\n",
       "        vertical-align: middle;\n",
       "    }\n",
       "\n",
       "    .dataframe tbody tr th {\n",
       "        vertical-align: top;\n",
       "    }\n",
       "\n",
       "    .dataframe thead th {\n",
       "        text-align: right;\n",
       "    }\n",
       "</style>\n",
       "<table border=\"1\" class=\"dataframe\">\n",
       "  <thead>\n",
       "    <tr style=\"text-align: right;\">\n",
       "      <th></th>\n",
       "      <th>MetaProgram</th>\n",
       "      <th>Sample</th>\n",
       "      <th>CCG_ID</th>\n",
       "      <th>BluePrint</th>\n",
       "      <th>AC_Treatment</th>\n",
       "      <th>Tech</th>\n",
       "      <th>WES_Profile</th>\n",
       "      <th>BulkRNA_Profile</th>\n",
       "      <th>PAM50</th>\n",
       "      <th>BestResponse</th>\n",
       "      <th>Timepoint</th>\n",
       "      <th>stage</th>\n",
       "      <th>Patient</th>\n",
       "      <th>Treatment_Arm</th>\n",
       "    </tr>\n",
       "    <tr>\n",
       "      <th>index</th>\n",
       "      <th></th>\n",
       "      <th></th>\n",
       "      <th></th>\n",
       "      <th></th>\n",
       "      <th></th>\n",
       "      <th></th>\n",
       "      <th></th>\n",
       "      <th></th>\n",
       "      <th></th>\n",
       "      <th></th>\n",
       "      <th></th>\n",
       "      <th></th>\n",
       "      <th></th>\n",
       "      <th></th>\n",
       "    </tr>\n",
       "  </thead>\n",
       "  <tbody>\n",
       "  </tbody>\n",
       "</table>\n",
       "</div>"
      ],
      "text/plain": [
       "Empty DataFrame\n",
       "Columns: [MetaProgram, Sample, CCG_ID, BluePrint, AC_Treatment, Tech, WES_Profile, BulkRNA_Profile, PAM50, BestResponse, Timepoint, stage, Patient, Treatment_Arm]\n",
       "Index: []"
      ]
     },
     "execution_count": 12,
     "metadata": {},
     "output_type": "execute_result"
    }
   ],
   "source": [
    "anno.loc[anno['MetaProgram'].isin(pt_specific),:]"
   ]
  },
  {
   "cell_type": "markdown",
   "metadata": {},
   "source": [
    "###  Calculate the complexity correaltion"
   ]
  },
  {
   "cell_type": "code",
   "execution_count": 13,
   "metadata": {},
   "outputs": [
    {
     "data": {
      "text/plain": [
       "['MP10']"
      ]
     },
     "execution_count": 13,
     "metadata": {},
     "output_type": "execute_result"
    }
   ],
   "source": [
    "nmf_corr_complexity = []\n",
    "for k,v in programs_coef.items():\n",
    "    tmp = v.corrwith(adata.obs.loc[v.index,'n_genes_by_counts'])\n",
    "    nmf_corr_complexity.append(tmp)\n",
    "del tmp\n",
    "nmf_corr_complexity=pd.concat(nmf_corr_complexity,axis=0)\n",
    "dt = pd.concat([nmf_corr_complexity.abs()>.4,Cluster_Map],axis=1,join='inner').groupby(1)[0].mean()\n",
    "high_complexity = dt[dt>.5].index.tolist()\n",
    "high_complexity"
   ]
  },
  {
   "cell_type": "code",
   "execution_count": 14,
   "metadata": {},
   "outputs": [
    {
     "data": {
      "text/plain": [
       "1\n",
       "MP10    0.75\n",
       "Name: 0, dtype: float64"
      ]
     },
     "execution_count": 14,
     "metadata": {},
     "output_type": "execute_result"
    }
   ],
   "source": [
    "dt[dt>.5]"
   ]
  },
  {
   "cell_type": "markdown",
   "metadata": {},
   "source": [
    "### Remove patient specific, high complexity, and unknown program"
   ]
  },
  {
   "cell_type": "code",
   "execution_count": 15,
   "metadata": {},
   "outputs": [
    {
     "data": {
      "text/plain": [
       "'Generated 9 MP clusters which covered 36% robust RPH programs.'"
      ]
     },
     "execution_count": 15,
     "metadata": {},
     "output_type": "execute_result"
    }
   ],
   "source": [
    "anno = anno.loc[~anno['MetaProgram'].isin(pt_specific+['MP_Unknown']+low_quality_mps+high_complexity),:]\n",
    "New_Programs_Order = [ x for x in Programs_Order if x in anno.index]\n",
    "New_MP_Genesets = MP_Genesets[anno['MetaProgram'].unique().tolist()]\n",
    "f\"Generated {anno['MetaProgram'].nunique()} MP clusters which covered {(anno.shape[0]/robustRPH.shape[1]):.0%} robust RPH programs.\""
   ]
  },
  {
   "cell_type": "markdown",
   "metadata": {},
   "source": [
    "## Visualize the program similarity "
   ]
  },
  {
   "cell_type": "markdown",
   "metadata": {},
   "source": [
    "### Visualize the similarity"
   ]
  },
  {
   "cell_type": "code",
   "execution_count": 16,
   "metadata": {},
   "outputs": [],
   "source": [
    "def jaccard_index(c1,c2):\n",
    "    c1 = set(c1)\n",
    "    c2 = set(c2)\n",
    "    overlap =  c1.intersection(c2)\n",
    "    union = c1.union(c2)\n",
    "    value = len(overlap)/len(union)\n",
    "    return value\n",
    "\n",
    "## Jaccard index    \n",
    "sm = robustRPH.apply(\n",
    "        lambda c1:\n",
    "            robustRPH.apply(\n",
    "            lambda c2: jaccard_index(c1,c2) * 100\n",
    "            ,axis=0)\n",
    "        ,axis=0)"
   ]
  },
  {
   "cell_type": "code",
   "execution_count": 17,
   "metadata": {},
   "outputs": [
    {
     "name": "stdout",
     "output_type": "stream",
     "text": [
      "Starting plotting..\n",
      "Starting calculating row orders..\n",
      "Reordering rows..\n",
      "Starting calculating col orders..\n",
      "Reordering cols..\n",
      "Plotting matrix..\n",
      "Collecting legends..\n",
      "Plotting legends..\n",
      "Estimated legend width: 28.22361111111111 mm\n",
      "Incresing ncol\n"
     ]
    },
    {
     "data": {
      "text/plain": [
       "<matplotlib.lines.Line2D at 0x7fb4245fe400>"
      ]
     },
     "execution_count": 17,
     "metadata": {},
     "output_type": "execute_result"
    },
    {
     "data": {
      "image/png": "[encoded data removed]",
      "text/plain": [
       "<Figure size 1500x1200 with 13 Axes>"
      ]
     },
     "metadata": {
      "needs_background": "light"
     },
     "output_type": "display_data"
    }
   ],
   "source": [
    "from PyComplexHeatmap import \\\n",
    "ClusterMapPlotter,HeatmapAnnotation,anno_simple,anno_label,DotClustermapPlotter,anno_scatterplot\n",
    "## Get the order the program\n",
    "anno['Cell_complexity_cor'] = nmf_corr_complexity\n",
    "order = New_Programs_Order\n",
    "\n",
    "## column annotation\n",
    "n_mp = Cluster_Map.nunique()\n",
    "COLOR_PAlETTE['MetaProgram'] = MP_colors\n",
    "col_dict={}\n",
    "for col in ['Timepoint','Patient','MetaProgram']:#'Treatment_Arm','BestResponse',\n",
    "    colors = { k:v for k,v in COLOR_PAlETTE[col].items() if k in anno[col].unique()}\n",
    "    col_dict[col] = anno_simple(anno[col],\n",
    "                              legend_kws=dict(frameon=False),\n",
    "                              colors=colors)\n",
    "    \n",
    "col_dict['Cell complexity correlation']= anno_scatterplot(\n",
    "    anno['Cell_complexity_cor'],height=14,legend=False,grid=False\n",
    ")\n",
    "\n",
    "col_ha = HeatmapAnnotation(**col_dict,verbose=0,axis=1)\n",
    "row_ha = HeatmapAnnotation(\n",
    "    MetaProgram = anno_simple(anno['MetaProgram'],legend=False),verbose=0,axis=0\n",
    ")\n",
    "## plot\n",
    "plt.rcParams['font.family'] = 'serif'\n",
    "plt.figure(figsize=(10, 8),dpi=150)\n",
    "\n",
    "\n",
    "cm = ClusterMapPlotter(data=sm.loc[order,order],\n",
    "                       top_annotation=col_ha,\n",
    "                       row_cluster=False,col_cluster=False,\n",
    "#                        left_annotation=row_ha,\n",
    "#                        col_split=rph_anno['RPH'],row_split=rph_anno['RPH'],\n",
    "#                        row_split_gap=0.8,col_split_gap=0.8,\n",
    "                       vmin=0,\n",
    "                       vmax=25,\n",
    "                       label='Similarity\\n(Jaccard Index)', row_dendrogram=False,legend_gap=7,\n",
    "                       cmap='Reds',rasterized=True)\n",
    "\n",
    "## Change the ylim for the correlation plot\n",
    "cutoff=.4\n",
    "ax=col_ha.annotations[3].ax\n",
    "ax.set_yticks([-0.8,-0.5,0,0.5,0.8]);\n",
    "ax.axhline(y=cutoff,ls='--',color='gray')\n",
    "ax.axhline(y=-cutoff,ls='--',color='gray')"
   ]
  },
  {
   "cell_type": "markdown",
   "metadata": {},
   "source": [
    "## Write out the Genesets for every MP"
   ]
  },
  {
   "cell_type": "code",
   "execution_count": 18,
   "metadata": {},
   "outputs": [],
   "source": [
    "mp_gmt_path = f'{RESULT_TABLE}/MPs/Tumor/MP_Programs.gmt'\n",
    "with open(mp_gmt_path,'w') as f:\n",
    "    for mp in New_MP_Genesets:\n",
    "        f.write('\\t'.join([mp,'MetaProgram_HRpos']+MP_Genesets[mp].tolist())+'\\n')\n",
    "\n",
    "with open(mp_gmt_path.replace('MP_Programs.gmt','MP_order_color.pickle'), 'wb') as handle:\n",
    "    pickle.dump({\n",
    "        'order':order,\n",
    "        'col_ha':col_ha,\n",
    "        'bg_genes':bg_genes,\n",
    "        'MP_Colors':COLOR_PAlETTE['MetaProgram']\n",
    "    }, handle, protocol=pickle.HIGHEST_PROTOCOL)\n",
    "\n",
    "\n",
    "\n",
    "mp_anno_path = f'{RESULT_TABLE}/MPs/Tumor/MetaProgram_Annotation.csv'\n",
    "anno.to_csv(mp_anno_path,index=True)\n"
   ]
  }
 ],
 "metadata": {
  "kernelspec": {
   "display_name": "scpipe",
   "language": "python",
   "name": "scpipe"
  },
  "language_info": {
   "codemirror_mode": {
    "name": "ipython",
    "version": 3
   },
   "file_extension": ".py",
   "mimetype": "text/x-python",
   "name": "python",
   "nbconvert_exporter": "python",
   "pygments_lexer": "ipython3",
   "version": "3.8.12"
  },
  "toc": {
   "base_numbering": 1,
   "nav_menu": {},
   "number_sections": true,
   "sideBar": true,
   "skip_h1_title": false,
   "title_cell": "Table of Contents",
   "title_sidebar": "Contents",
   "toc_cell": false,
   "toc_position": {
    "height": "calc(100% - 180px)",
    "left": "10px",
    "top": "150px",
    "width": "409.323px"
   },
   "toc_section_display": true,
   "toc_window_display": true
  }
 },
 "nbformat": 4,
 "nbformat_minor": 4
}
