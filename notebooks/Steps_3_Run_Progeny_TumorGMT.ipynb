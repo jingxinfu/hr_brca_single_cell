{
 "cells": [
  {
   "cell_type": "code",
   "execution_count": 1,
   "id": "21e144d7-1fd6-45f5-8095-7fab50775b00",
   "metadata": {},
   "outputs": [],
   "source": [
    "REPO = '../..'\n",
    "Manuscript_RESULT = f'{REPO}/data/result/manuscript_table/'\n",
    "import pandas as pd\n",
    "import decoupler as dc\n",
    "import warnings\n",
    "warnings.filterwarnings(\"ignore\")\n",
    "%load_ext autoreload\n",
    "%autoreload 2\n",
    "%matplotlib inline"
   ]
  },
  {
   "cell_type": "markdown",
   "id": "3d21bfc1-a78e-4066-b9fb-532c1e79fe58",
   "metadata": {},
   "source": [
    "# load adata and cell type/clinical annotation"
   ]
  },
  {
   "cell_type": "code",
   "execution_count": 2,
   "id": "72398a26-2ba6-4067-b78f-e973bb6d63c5",
   "metadata": {},
   "outputs": [],
   "source": [
    "obs_path = f\"{Manuscript_RESULT}/GEX_OBS.csv\"\n",
    "obs = pd.read_csv(obs_path,index_col=0)"
   ]
  },
  {
   "cell_type": "markdown",
   "id": "a0365bec-7792-44b8-8be0-724045e31e04",
   "metadata": {},
   "source": [
    "# DEGs to create GMT file for each Cellstate in Tumor"
   ]
  },
  {
   "cell_type": "code",
   "execution_count": 6,
   "id": "a3eaf50e-3d02-4660-acc2-6463c4ab2bd2",
   "metadata": {},
   "outputs": [
    {
     "name": "stdout",
     "output_type": "stream",
     "text": [
      "Tumor.EMT-III\n",
      "Tumor.EMT-II\n",
      "Tumor.ER-II\n",
      "Tumor.ER-I\n",
      "Tumor.Cell_Cycle\n",
      "Tumor.Interferon/MHCII(I)\n"
     ]
    }
   ],
   "source": [
    "with open(f'{Manuscript_RESULT}/Tumor_Cellstate.gmt','w') as f:\n",
    "    for cellstate in obs.loc[obs.Celltype=='Tumor','Cellstate'].unique():\n",
    "        print(cellstate)\n",
    "        sheet_name = cellstate.replace('/','_')  if '/' in cellstate else cellstate\n",
    "        degs = pd.read_excel(f\"{Manuscript_RESULT}/DEGs_Cellstate.xlsx\",sheet_name=sheet_name,index_col=0)\n",
    "        degs = degs.sort_values('stat',ascending=False).index[(degs.padj<0.05) & (degs.log2FoldChange>1)].tolist()[:100]\n",
    "        f.write('\\t'.join([cellstate,'All_cells']+degs)+'\\n')"
   ]
  },
  {
   "cell_type": "markdown",
   "id": "23cadfad-2143-4ca8-b0dd-c01613205693",
   "metadata": {},
   "source": [
    "# Activity inference with Multivariate Linear Model (MLM)"
   ]
  },
  {
   "cell_type": "code",
   "execution_count": 3,
   "id": "b704a4c9-68c2-4c63-b5e6-61ceed1b7c5a",
   "metadata": {},
   "outputs": [],
   "source": [
    "progeny = dc.get_progeny(organism='human', top=500)"
   ]
  },
  {
   "cell_type": "code",
   "execution_count": 4,
   "id": "0fb2b501-9817-4de9-9202-1101e7b82a95",
   "metadata": {},
   "outputs": [],
   "source": [
    "progeny.to_csv(f\"{Manuscript_RESULT}/progeny_reference.csv\",index=False)"
   ]
  },
  {
   "cell_type": "code",
   "execution_count": 7,
   "id": "0b19dc5a-735d-4786-80e2-6c9e828358dd",
   "metadata": {},
   "outputs": [],
   "source": [
    "pathway_acts = []\n",
    "pathway_pvals = []\n",
    "for celltype in ['CD8T','Macs','Tumor']:\n",
    "    cellstates = obs.loc[obs.Celltype==celltype,'Cellstate'].unique()\n",
    "    for cellstate in cellstates:\n",
    "        sheet_name = cellstate.replace('/','_')  if '/' in cellstate else cellstate\n",
    "        stat_df = pd.read_excel(f\"{Manuscript_RESULT}/DEGs_{celltype}.xlsx\",sheet_name=sheet_name,index_col=0)[['stat']].T.rename(index={'stat':cellstate})\n",
    "        # Infer pathway activities with mlm\n",
    "        pathway_act, pathway_pval = dc.run_mlm(mat=stat_df, net=progeny)\n",
    "        pathway_acts.append(pathway_act)\n",
    "        pathway_pvals.append(pathway_pval)\n",
    "\n",
    "## Tumor aggr state\n",
    "for cellstate in ['EMT','ER','Interferon','Cell_Cycle']:\n",
    "    stat_df = pd.read_excel(f\"{Manuscript_RESULT}/DEGs_Tumor_Aggr.xlsx\",sheet_name=cellstate,index_col=0)[['stat']].T.rename(index={'stat':cellstate})\n",
    "    # Infer pathway activities with mlm\n",
    "    pathway_act, pathway_pval = dc.run_mlm(mat=stat_df, net=progeny)\n",
    "    pathway_acts.append(pathway_act)\n",
    "    pathway_pvals.append(pathway_pval)\n",
    "    \n",
    "pathway_acts = pd.concat(pathway_acts,axis=0)\n",
    "pathway_pvals = pd.concat(pathway_pvals,axis=0)\n",
    "# store result\n",
    "with pd.ExcelWriter(f\"{Manuscript_RESULT}/Progeny.xlsx\") as f:\n",
    "    pathway_acts.to_excel(f,sheet_name='Activity',index=True)\n",
    "    pathway_pvals.to_excel(f,sheet_name='Pvalue',index=True)"
   ]
  },
  {
   "cell_type": "code",
   "execution_count": null,
   "id": "d37a1e90-a910-439c-a1da-42e66f0939b1",
   "metadata": {},
   "outputs": [],
   "source": []
  }
 ],
 "metadata": {
  "kernelspec": {
   "display_name": "scpipe",
   "language": "python",
   "name": "scpipe"
  },
  "language_info": {
   "codemirror_mode": {
    "name": "ipython",
    "version": 3
   },
   "file_extension": ".py",
   "mimetype": "text/x-python",
   "name": "python",
   "nbconvert_exporter": "python",
   "pygments_lexer": "ipython3",
   "version": "3.8.12"
  }
 },
 "nbformat": 4,
 "nbformat_minor": 5
}
