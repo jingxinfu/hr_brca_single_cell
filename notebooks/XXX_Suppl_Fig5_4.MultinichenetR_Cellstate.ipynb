{
 "cells": [
  {
   "cell_type": "code",
   "execution_count": 1,
   "id": "0cb75ee0-819d-4cb7-8cd6-994751da0613",
   "metadata": {
    "editable": true,
    "slideshow": {
     "slide_type": ""
    },
    "tags": []
   },
   "outputs": [
    {
     "name": "stderr",
     "output_type": "stream",
     "text": [
      "Loading required package: SummarizedExperiment\n",
      "\n",
      "Loading required package: MatrixGenerics\n",
      "\n",
      "Loading required package: matrixStats\n",
      "\n",
      "\n",
      "Attaching package: ‘MatrixGenerics’\n",
      "\n",
      "\n",
      "The following objects are masked from ‘package:matrixStats’:\n",
      "\n",
      "    colAlls, colAnyNAs, colAnys, colAvgsPerRowSet, colCollapse,\n",
      "    colCounts, colCummaxs, colCummins, colCumprods, colCumsums,\n",
      "    colDiffs, colIQRDiffs, colIQRs, colLogSumExps, colMadDiffs,\n",
      "    colMads, colMaxs, colMeans2, colMedians, colMins, colOrderStats,\n",
      "    colProds, colQuantiles, colRanges, colRanks, colSdDiffs, colSds,\n",
      "    colSums2, colTabulates, colVarDiffs, colVars, colWeightedMads,\n",
      "    colWeightedMeans, colWeightedMedians, colWeightedSds,\n",
      "    colWeightedVars, rowAlls, rowAnyNAs, rowAnys, rowAvgsPerColSet,\n",
      "    rowCollapse, rowCounts, rowCummaxs, rowCummins, rowCumprods,\n",
      "    rowCumsums, rowDiffs, rowIQRDiffs, rowIQRs, rowLogSumExps,\n",
      "    rowMadDiffs, rowMads, rowMaxs, rowMeans2, rowMedians, rowMins,\n",
      "    rowOrderStats, rowProds, rowQuantiles, rowRanges, rowRanks,\n",
      "    rowSdDiffs, rowSds, rowSums2, rowTabulates, rowVarDiffs, rowVars,\n",
      "    rowWeightedMads, rowWeightedMeans, rowWeightedMedians,\n",
      "    rowWeightedSds, rowWeightedVars\n",
      "\n",
      "\n",
      "Loading required package: GenomicRanges\n",
      "\n",
      "Loading required package: stats4\n",
      "\n",
      "Loading required package: BiocGenerics\n",
      "\n",
      "\n",
      "Attaching package: ‘BiocGenerics’\n",
      "\n",
      "\n",
      "The following objects are masked from ‘package:stats’:\n",
      "\n",
      "    IQR, mad, sd, var, xtabs\n",
      "\n",
      "\n",
      "The following objects are masked from ‘package:base’:\n",
      "\n",
      "    anyDuplicated, append, as.data.frame, basename, cbind, colnames,\n",
      "    dirname, do.call, duplicated, eval, evalq, Filter, Find, get, grep,\n",
      "    grepl, intersect, is.unsorted, lapply, Map, mapply, match, mget,\n",
      "    order, paste, pmax, pmax.int, pmin, pmin.int, Position, rank,\n",
      "    rbind, Reduce, rownames, sapply, setdiff, sort, table, tapply,\n",
      "    union, unique, unsplit, which.max, which.min\n",
      "\n",
      "\n",
      "Loading required package: S4Vectors\n",
      "\n",
      "\n",
      "Attaching package: ‘S4Vectors’\n",
      "\n",
      "\n",
      "The following objects are masked from ‘package:base’:\n",
      "\n",
      "    expand.grid, I, unname\n",
      "\n",
      "\n",
      "Loading required package: IRanges\n",
      "\n",
      "Loading required package: GenomeInfoDb\n",
      "\n",
      "Loading required package: Biobase\n",
      "\n",
      "Welcome to Bioconductor\n",
      "\n",
      "    Vignettes contain introductory material; view with\n",
      "    'browseVignettes()'. To cite Bioconductor, see\n",
      "    'citation(\"Biobase\")', and for packages 'citation(\"pkgname\")'.\n",
      "\n",
      "\n",
      "\n",
      "Attaching package: ‘Biobase’\n",
      "\n",
      "\n",
      "The following object is masked from ‘package:MatrixGenerics’:\n",
      "\n",
      "    rowMedians\n",
      "\n",
      "\n",
      "The following objects are masked from ‘package:matrixStats’:\n",
      "\n",
      "    anyMissing, rowMedians\n",
      "\n",
      "\n",
      "\n",
      "Attaching package: ‘nichenetr’\n",
      "\n",
      "\n",
      "The following objects are masked from ‘package:multinichenetr’:\n",
      "\n",
      "    combine_sender_receiver_de, generate_prioritization_tables\n",
      "\n",
      "\n",
      "Loading required package: SeuratObject\n",
      "\n",
      "Loading required package: sp\n",
      "\n",
      "\n",
      "Attaching package: ‘sp’\n",
      "\n",
      "\n",
      "The following object is masked from ‘package:IRanges’:\n",
      "\n",
      "    %over%\n",
      "\n",
      "\n",
      "\n",
      "Attaching package: ‘SeuratObject’\n",
      "\n",
      "\n",
      "The following object is masked from ‘package:SummarizedExperiment’:\n",
      "\n",
      "    Assays\n",
      "\n",
      "\n",
      "The following object is masked from ‘package:GenomicRanges’:\n",
      "\n",
      "    intersect\n",
      "\n",
      "\n",
      "The following object is masked from ‘package:GenomeInfoDb’:\n",
      "\n",
      "    intersect\n",
      "\n",
      "\n",
      "The following object is masked from ‘package:IRanges’:\n",
      "\n",
      "    intersect\n",
      "\n",
      "\n",
      "The following object is masked from ‘package:S4Vectors’:\n",
      "\n",
      "    intersect\n",
      "\n",
      "\n",
      "The following object is masked from ‘package:BiocGenerics’:\n",
      "\n",
      "    intersect\n",
      "\n",
      "\n",
      "The following object is masked from ‘package:base’:\n",
      "\n",
      "    intersect\n",
      "\n",
      "\n",
      "\n",
      "Attaching package: ‘Seurat’\n",
      "\n",
      "\n",
      "The following object is masked from ‘package:SummarizedExperiment’:\n",
      "\n",
      "    Assays\n",
      "\n",
      "\n",
      "── \u001b[1mAttaching core tidyverse packages\u001b[22m ──────────────────────── tidyverse 2.0.0 ──\n",
      "\u001b[32m✔\u001b[39m \u001b[34mdplyr    \u001b[39m 1.1.4     \u001b[32m✔\u001b[39m \u001b[34mreadr    \u001b[39m 2.1.4\n",
      "\u001b[32m✔\u001b[39m \u001b[34mforcats  \u001b[39m 1.0.0     \u001b[32m✔\u001b[39m \u001b[34mstringr  \u001b[39m 1.5.1\n",
      "\u001b[32m✔\u001b[39m \u001b[34mlubridate\u001b[39m 1.9.2     \u001b[32m✔\u001b[39m \u001b[34mtibble   \u001b[39m 3.2.1\n",
      "\u001b[32m✔\u001b[39m \u001b[34mpurrr    \u001b[39m 1.0.2     \u001b[32m✔\u001b[39m \u001b[34mtidyr    \u001b[39m 1.3.1\n",
      "── \u001b[1mConflicts\u001b[22m ────────────────────────────────────────── tidyverse_conflicts() ──\n",
      "\u001b[31m✖\u001b[39m \u001b[34mlubridate\u001b[39m::\u001b[32m%within%()\u001b[39m masks \u001b[34mIRanges\u001b[39m::%within%()\n",
      "\u001b[31m✖\u001b[39m \u001b[34mdplyr\u001b[39m::\u001b[32mcollapse()\u001b[39m     masks \u001b[34mIRanges\u001b[39m::collapse()\n",
      "\u001b[31m✖\u001b[39m \u001b[34mdplyr\u001b[39m::\u001b[32mcombine()\u001b[39m      masks \u001b[34mBiobase\u001b[39m::combine(), \u001b[34mBiocGenerics\u001b[39m::combine()\n",
      "\u001b[31m✖\u001b[39m \u001b[34mdplyr\u001b[39m::\u001b[32mcount()\u001b[39m        masks \u001b[34mmatrixStats\u001b[39m::count()\n",
      "\u001b[31m✖\u001b[39m \u001b[34mdplyr\u001b[39m::\u001b[32mdesc()\u001b[39m         masks \u001b[34mIRanges\u001b[39m::desc()\n",
      "\u001b[31m✖\u001b[39m \u001b[34mtidyr\u001b[39m::\u001b[32mexpand()\u001b[39m       masks \u001b[34mS4Vectors\u001b[39m::expand()\n",
      "\u001b[31m✖\u001b[39m \u001b[34mdplyr\u001b[39m::\u001b[32mfilter()\u001b[39m       masks \u001b[34mstats\u001b[39m::filter()\n",
      "\u001b[31m✖\u001b[39m \u001b[34mdplyr\u001b[39m::\u001b[32mfirst()\u001b[39m        masks \u001b[34mS4Vectors\u001b[39m::first()\n",
      "\u001b[31m✖\u001b[39m \u001b[34mdplyr\u001b[39m::\u001b[32mlag()\u001b[39m          masks \u001b[34mstats\u001b[39m::lag()\n",
      "\u001b[31m✖\u001b[39m \u001b[34mggplot2\u001b[39m::\u001b[32mPosition()\u001b[39m   masks \u001b[34mBiocGenerics\u001b[39m::Position(), \u001b[34mbase\u001b[39m::Position()\n",
      "\u001b[31m✖\u001b[39m \u001b[34mpurrr\u001b[39m::\u001b[32mreduce()\u001b[39m       masks \u001b[34mGenomicRanges\u001b[39m::reduce(), \u001b[34mIRanges\u001b[39m::reduce()\n",
      "\u001b[31m✖\u001b[39m \u001b[34mdplyr\u001b[39m::\u001b[32mrename()\u001b[39m       masks \u001b[34mS4Vectors\u001b[39m::rename()\n",
      "\u001b[31m✖\u001b[39m \u001b[34mlubridate\u001b[39m::\u001b[32msecond()\u001b[39m   masks \u001b[34mS4Vectors\u001b[39m::second()\n",
      "\u001b[31m✖\u001b[39m \u001b[34mlubridate\u001b[39m::\u001b[32msecond<-()\u001b[39m masks \u001b[34mS4Vectors\u001b[39m::second<-()\n",
      "\u001b[31m✖\u001b[39m \u001b[34mdplyr\u001b[39m::\u001b[32mslice()\u001b[39m        masks \u001b[34mIRanges\u001b[39m::slice()\n",
      "\u001b[36mℹ\u001b[39m Use the conflicted package (\u001b[3m\u001b[34m<http://conflicted.r-lib.org/>\u001b[39m\u001b[23m) to force all conflicts to become errors\n",
      "\n",
      "Attaching package: ‘data.table’\n",
      "\n",
      "\n",
      "The following objects are masked from ‘package:lubridate’:\n",
      "\n",
      "    hour, isoweek, mday, minute, month, quarter, second, wday, week,\n",
      "    yday, year\n",
      "\n",
      "\n",
      "The following objects are masked from ‘package:dplyr’:\n",
      "\n",
      "    between, first, last\n",
      "\n",
      "\n",
      "The following object is masked from ‘package:purrr’:\n",
      "\n",
      "    transpose\n",
      "\n",
      "\n",
      "The following object is masked from ‘package:SummarizedExperiment’:\n",
      "\n",
      "    shift\n",
      "\n",
      "\n",
      "The following object is masked from ‘package:GenomicRanges’:\n",
      "\n",
      "    shift\n",
      "\n",
      "\n",
      "The following object is masked from ‘package:IRanges’:\n",
      "\n",
      "    shift\n",
      "\n",
      "\n",
      "The following objects are masked from ‘package:S4Vectors’:\n",
      "\n",
      "    first, second\n",
      "\n",
      "\n"
     ]
    }
   ],
   "source": [
    "library(SingleCellExperiment)\n",
    "library(ggplot2)\n",
    "library(multinichenetr)\n",
    "library(nichenetr)\n",
    "library(Seurat)\n",
    "library(tidyverse)\n",
    "library(data.table)\n",
    "library(dplyr)\n",
    "library(rjson)\n",
    "options(warn=-1)"
   ]
  },
  {
   "cell_type": "code",
   "execution_count": 2,
   "id": "45dff79b-2291-4acb-a008-ba27b41292f8",
   "metadata": {},
   "outputs": [
    {
     "data": {
      "text/plain": [
       "R version 4.1.3 (2022-03-10)\n",
       "Platform: x86_64-conda-linux-gnu (64-bit)\n",
       "Running under: Ubuntu 18.04.5 LTS\n",
       "\n",
       "Matrix products: default\n",
       "BLAS/LAPACK: /home/analysis/miniconda3/envs/scPipe/lib/libopenblasp-r0.3.24.so\n",
       "\n",
       "locale:\n",
       " [1] LC_CTYPE=en_US.utf-8       LC_NUMERIC=C              \n",
       " [3] LC_TIME=en_US.utf-8        LC_COLLATE=en_US.utf-8    \n",
       " [5] LC_MONETARY=en_US.utf-8    LC_MESSAGES=en_US.utf-8   \n",
       " [7] LC_PAPER=en_US.utf-8       LC_NAME=C                 \n",
       " [9] LC_ADDRESS=C               LC_TELEPHONE=C            \n",
       "[11] LC_MEASUREMENT=en_US.utf-8 LC_IDENTIFICATION=C       \n",
       "\n",
       "attached base packages:\n",
       "[1] stats4    stats     graphics  grDevices utils     datasets  methods  \n",
       "[8] base     \n",
       "\n",
       "other attached packages:\n",
       " [1] rjson_0.2.21                data.table_1.15.2          \n",
       " [3] lubridate_1.9.2             forcats_1.0.0              \n",
       " [5] stringr_1.5.1               dplyr_1.1.4                \n",
       " [7] purrr_1.0.2                 readr_2.1.4                \n",
       " [9] tidyr_1.3.1                 tibble_3.2.1               \n",
       "[11] tidyverse_2.0.0             Seurat_5.0.0               \n",
       "[13] SeuratObject_5.0.0          sp_2.1-1                   \n",
       "[15] nichenetr_2.1.5             multinichenetr_2.0.0       \n",
       "[17] ggplot2_3.5.0               SingleCellExperiment_1.16.0\n",
       "[19] SummarizedExperiment_1.24.0 Biobase_2.54.0             \n",
       "[21] GenomicRanges_1.46.1        GenomeInfoDb_1.30.1        \n",
       "[23] IRanges_2.28.0              S4Vectors_0.32.4           \n",
       "[25] BiocGenerics_0.40.0         MatrixGenerics_1.6.0       \n",
       "[27] matrixStats_1.2.0          \n",
       "\n",
       "loaded via a namespace (and not attached):\n",
       "  [1] rsvd_1.0.5                Hmisc_5.1-1              \n",
       "  [3] ica_1.0-3                 class_7.3-22             \n",
       "  [5] foreach_1.5.2             lmtest_0.9-40            \n",
       "  [7] crayon_1.5.2              rbibutils_2.2.16         \n",
       "  [9] MASS_7.3-58.3             nlme_3.1-162             \n",
       " [11] backports_1.4.1           sva_3.42.0               \n",
       " [13] rlang_1.1.3               XVector_0.34.0           \n",
       " [15] caret_6.0-94              ROCR_1.0-11              \n",
       " [17] irlba_2.3.5.1             nloptr_2.0.3             \n",
       " [19] limma_3.50.3              scater_1.22.0            \n",
       " [21] BiocParallel_1.28.3       bit64_4.0.5              \n",
       " [23] glue_1.7.0                sctransform_0.4.1        \n",
       " [25] pbkrtest_0.5.2            parallel_4.1.3           \n",
       " [27] vipor_0.4.5               spatstat.sparse_3.0-3    \n",
       " [29] AnnotationDbi_1.56.2      UpSetR_1.4.0             \n",
       " [31] muscat_1.8.2              dotCall64_1.1-0          \n",
       " [33] spatstat.geom_3.2-7       tidyselect_1.2.1         \n",
       " [35] fitdistrplus_1.1-11       variancePartition_1.24.1 \n",
       " [37] XML_3.99-0.16             zoo_1.8-12               \n",
       " [39] ggpubr_0.6.0              xtable_1.8-4             \n",
       " [41] RcppHNSW_0.6.0            magrittr_2.0.3           \n",
       " [43] evaluate_0.23             Rdpack_2.6               \n",
       " [45] scuttle_1.4.0             cli_3.6.2                \n",
       " [47] zlibbioc_1.40.0           rstudioapi_0.14          \n",
       " [49] miniUI_0.1.1.1            rpart_4.1.19             \n",
       " [51] aod_1.3.3                 locfdr_1.1-8             \n",
       " [53] fastDummies_1.7.3         shiny_1.7.5.1            \n",
       " [55] xfun_0.41                 BiocSingular_1.10.0      \n",
       " [57] clue_0.3-65               cluster_2.1.4            \n",
       " [59] caTools_1.18.2            tidygraph_1.3.0          \n",
       " [61] pbdZMQ_0.3-9              KEGGREST_1.34.0          \n",
       " [63] ggrepel_0.9.5             listenv_0.9.0            \n",
       " [65] Biostrings_2.62.0         png_0.1-8                \n",
       " [67] future_1.33.0             ipred_0.9-14             \n",
       " [69] withr_3.0.0               bitops_1.0-7             \n",
       " [71] ggforce_0.4.1             plyr_1.8.9               \n",
       " [73] hardhat_1.3.0             dqrng_0.3.2              \n",
       " [75] e1071_1.7-13              pROC_1.18.2              \n",
       " [77] coda_0.19-4               pillar_1.9.0             \n",
       " [79] gplots_3.1.3              GlobalOptions_0.1.2      \n",
       " [81] cachem_1.0.8              multcomp_1.4-25          \n",
       " [83] GetoptLong_1.0.5          DelayedMatrixStats_1.16.0\n",
       " [85] vctrs_0.6.5               ellipsis_0.3.2           \n",
       " [87] generics_0.1.3            lava_1.7.2.1             \n",
       " [89] tools_4.1.3               foreign_0.8-84           \n",
       " [91] beeswarm_0.4.0            munsell_0.5.0            \n",
       " [93] tweenr_2.0.2              emmeans_1.9.0            \n",
       " [95] proxy_0.4-27              DelayedArray_0.20.0      \n",
       " [97] fastmap_1.1.1             compiler_4.1.3           \n",
       " [99] abind_1.4-5               httpuv_1.6.12            \n",
       "[101] plotly_4.10.3             GenomeInfoDbData_1.2.7   \n",
       "[103] prodlim_2023.03.31        gridExtra_2.3            \n",
       "[105] glmmTMB_1.1.8             edgeR_3.36.0             \n",
       "[107] lattice_0.21-8            ggnewscale_0.4.9         \n",
       "[109] deldir_1.0-9              visNetwork_2.1.2         \n",
       "[111] utf8_1.2.4                later_1.3.1              \n",
       "[113] recipes_1.0.6             jsonlite_1.8.8           \n",
       "[115] scales_1.3.0              ScaledMatrix_1.2.0       \n",
       "[117] carData_3.0-5             pbapply_1.7-2            \n",
       "[119] sparseMatrixStats_1.6.0   estimability_1.4.1       \n",
       "[121] genefilter_1.76.0         lazyeval_0.2.2           \n",
       "[123] promises_1.2.1            car_3.1-2                \n",
       "[125] doParallel_1.0.17         goftest_1.2-3            \n",
       "[127] checkmate_2.3.1           spatstat.utils_3.0-5     \n",
       "[129] reticulate_1.34.0         rmarkdown_2.25           \n",
       "[131] sandwich_3.0-2            cowplot_1.1.1            \n",
       "[133] blme_1.0-5                statmod_1.5.0            \n",
       "[135] Rtsne_0.17                uwot_0.1.16              \n",
       "[137] igraph_2.0.3              survival_3.5-5           \n",
       "[139] numDeriv_2016.8-1.1       htmltools_0.5.7          \n",
       "[141] memoise_2.0.1             locfit_1.5-9.9           \n",
       "[143] graphlayouts_1.0.2        viridisLite_0.4.2        \n",
       "[145] digest_0.6.35             RhpcBLASctl_0.23-42      \n",
       "[147] mime_0.12                 repr_1.1.6               \n",
       "[149] spam_2.10-0               RSQLite_2.3.4            \n",
       "[151] future.apply_1.11.0       blob_1.2.4               \n",
       "[153] DiagrammeR_1.0.10         splines_4.1.3            \n",
       "[155] Formula_1.2-5             RCurl_1.98-1.14          \n",
       "[157] broom_1.0.5               hms_1.1.3                \n",
       "[159] colorspace_2.1-0          base64enc_0.1-3          \n",
       "[161] ggbeeswarm_0.7.2          shape_1.4.6              \n",
       "[163] nnet_7.3-19               Rcpp_1.0.12              \n",
       "[165] RANN_2.6.1                mvtnorm_1.2-3            \n",
       "[167] circlize_0.4.16           fansi_1.0.6              \n",
       "[169] tzdb_0.4.0                parallelly_1.36.0        \n",
       "[171] IRdisplay_1.1             ModelMetrics_1.2.2.2     \n",
       "[173] R6_2.5.1                  grid_4.1.3               \n",
       "[175] ggridges_0.5.4            lifecycle_1.0.4          \n",
       "[177] bluster_1.4.0             ggsignif_0.6.4           \n",
       "[179] minqa_1.2.6               leiden_0.4.3             \n",
       "[181] Matrix_1.6-2              RcppAnnoy_0.0.21         \n",
       "[183] TH.data_1.1-2             RColorBrewer_1.1-3       \n",
       "[185] iterators_1.0.14          spatstat.explore_3.2-5   \n",
       "[187] TMB_1.9.10                gower_1.0.1              \n",
       "[189] htmlwidgets_1.6.2         beachmat_2.10.0          \n",
       "[191] polyclip_1.10-6           shadowtext_0.1.2         \n",
       "[193] timechange_0.2.0          ComplexHeatmap_2.15.4    \n",
       "[195] mgcv_1.8-42               globals_0.16.2           \n",
       "[197] htmlTable_2.4.2           patchwork_1.2.0          \n",
       "[199] spatstat.random_3.2-1     progressr_0.14.0         \n",
       "[201] codetools_0.2-19          metapod_1.2.0            \n",
       "[203] randomForest_4.7-1.1      gtools_3.9.4             \n",
       "[205] prettyunits_1.2.0         RSpectra_0.16-1          \n",
       "[207] gtable_0.3.4              DBI_1.1.3                \n",
       "[209] tensor_1.5                httr_1.4.7               \n",
       "[211] KernSmooth_2.23-21        stringi_1.8.3            \n",
       "[213] progress_1.2.2            reshape2_1.4.4           \n",
       "[215] farver_2.1.1              uuid_1.1-0               \n",
       "[217] annotate_1.72.0           viridis_0.6.4            \n",
       "[219] fdrtool_1.2.17            timeDate_4022.108        \n",
       "[221] boot_1.3-28.1             IRkernel_1.3.2           \n",
       "[223] BiocNeighbors_1.12.0      lme4_1.1-35.1            \n",
       "[225] geneplotter_1.72.0        scattermore_1.2          \n",
       "[227] scran_1.22.1              DESeq2_1.34.0            \n",
       "[229] bit_4.0.5                 spatstat.data_3.0-3      \n",
       "[231] ggraph_2.1.0              pkgconfig_2.0.3          \n",
       "[233] lmerTest_3.1-3            rstatix_0.7.2            \n",
       "[235] knitr_1.45               "
      ]
     },
     "metadata": {},
     "output_type": "display_data"
    }
   ],
   "source": [
    "sessionInfo()"
   ]
  },
  {
   "cell_type": "markdown",
   "id": "e190d221-23c6-4b8f-9da7-05378fbeee05",
   "metadata": {},
   "source": [
    "# Download LR database and save to local"
   ]
  },
  {
   "cell_type": "code",
   "execution_count": 3,
   "id": "0cdd48d7-dc3e-452c-b9b5-4977d7096574",
   "metadata": {},
   "outputs": [],
   "source": [
    "# organism = \"human\"\n",
    "# options(timeout = 250)\n",
    "\n",
    "# if(organism == \"human\"){\n",
    "  \n",
    "#   lr_network_all = \n",
    "#     readRDS(url(\n",
    "#       \"https://zenodo.org/record/10229222/files/lr_network_human_allInfo_30112033.rds\"\n",
    "#       )) %>% \n",
    "#     mutate(\n",
    "#       ligand = convert_alias_to_symbols(ligand, organism = organism), \n",
    "#       receptor = convert_alias_to_symbols(receptor, organism = organism))\n",
    "  \n",
    "#   lr_network_all = lr_network_all  %>% \n",
    "#     mutate(ligand = make.names(ligand), receptor = make.names(receptor)) \n",
    "  \n",
    "#   lr_network = lr_network_all %>% \n",
    "#     distinct(ligand, receptor)\n",
    "  \n",
    "#   ligand_target_matrix = readRDS(url(\n",
    "#     \"https://zenodo.org/record/7074291/files/ligand_target_matrix_nsga2r_final.rds\"\n",
    "#     ))\n",
    "  \n",
    "#   colnames(ligand_target_matrix) = colnames(ligand_target_matrix) %>% \n",
    "#     convert_alias_to_symbols(organism = organism) %>% make.names()\n",
    "#   rownames(ligand_target_matrix) = rownames(ligand_target_matrix) %>% \n",
    "#     convert_alias_to_symbols(organism = organism) %>% make.names()\n",
    "  \n",
    "#   lr_network = lr_network %>% filter(ligand %in% colnames(ligand_target_matrix))\n",
    "#   ligand_target_matrix = ligand_target_matrix[, lr_network$ligand %>% unique()]\n",
    "  \n",
    "# } else if(organism == \"mouse\"){\n",
    "  \n",
    "#   lr_network_all = readRDS(url(\n",
    "#     \"https://zenodo.org/record/10229222/files/lr_network_mouse_allInfo_30112033.rds\"\n",
    "#     )) %>% \n",
    "#     mutate(\n",
    "#       ligand = convert_alias_to_symbols(ligand, organism = organism), \n",
    "#       receptor = convert_alias_to_symbols(receptor, organism = organism))\n",
    "  \n",
    "#   lr_network_all = lr_network_all  %>% \n",
    "#     mutate(ligand = make.names(ligand), receptor = make.names(receptor)) \n",
    "#   lr_network = lr_network_all %>% \n",
    "#     distinct(ligand, receptor)\n",
    "  \n",
    "#   ligand_target_matrix = readRDS(url(\n",
    "#     \"https://zenodo.org/record/7074291/files/ligand_target_matrix_nsga2r_final_mouse.rds\"\n",
    "#     ))\n",
    "  \n",
    "#   colnames(ligand_target_matrix) = colnames(ligand_target_matrix) %>% \n",
    "#     convert_alias_to_symbols(organism = organism) %>% make.names()\n",
    "#   rownames(ligand_target_matrix) = rownames(ligand_target_matrix) %>% \n",
    "#     convert_alias_to_symbols(organism = organism) %>% make.names()\n",
    "  \n",
    "#   lr_network = lr_network %>% filter(ligand %in% colnames(ligand_target_matrix))\n",
    "#   ligand_target_matrix = ligand_target_matrix[, lr_network$ligand %>% unique()]\n",
    "  \n",
    "# }\n",
    "\n",
    "# lr_network_path = '../data/external/lr_network_human_allInfo_30112033.rds'\n",
    "# ligand_target_matrix_path  = '../data/external/ligand_target_matrix_nsga2r_final.rds'\n",
    "# saveRDS(lr_network, file=lr_network_path)\n",
    "# saveRDS(ligand_target_matrix,file=ligand_target_matrix_path)"
   ]
  },
  {
   "cell_type": "markdown",
   "id": "a4916367-d35b-4510-b47b-0f177b6fe821",
   "metadata": {
    "editable": true,
    "slideshow": {
     "slide_type": ""
    },
    "tags": []
   },
   "source": [
    "# Function defination"
   ]
  },
  {
   "cell_type": "code",
   "execution_count": 4,
   "id": "ab063380-dfd4-42f3-bd5e-7b95c9c0b772",
   "metadata": {},
   "outputs": [],
   "source": [
    "loadh5ad <- function(inh5ad) {\n",
    "    library(reticulate)\n",
    "    ad = import(\"anndata\")\n",
    "    data_ad = ad$read_h5ad(inh5ad)\n",
    "    exp.rawdata = data_ad$X\n",
    "    obs = as.data.frame(data_ad$obs)\n",
    "    rownames(exp.rawdata) = data_ad$obs_names$to_list()\n",
    "    colnames(exp.rawdata) = data_ad$var_names$to_list()\n",
    "    exp.rawdata = t(exp.rawdata)\n",
    "    return(list(counts=exp.rawdata,obs=obs))\n",
    "}\n",
    "\n",
    "getSampleShort <- function(name_list){ \n",
    "    sapply(name_list,function(x){paste0('P',paste(strsplit(x,'_')[[1]][c(3,4)],collapse  = '.'))})\n",
    "           }\n",
    "\n",
    "replaceChars <- function(name_list){\n",
    "    name_list = gsub(\"[.+()-/]\", \"_\", name_list)\n",
    "    name_list = gsub(\"0_I\", \"R\", name_list)\n",
    "    name_list = gsub(\"II_III\", \"NR\", name_list)\n",
    "    return(gsub(\" \", \"_\", name_list))\n",
    "}"
   ]
  },
  {
   "cell_type": "markdown",
   "id": "013b7804-9a2a-4e9b-a3ac-5844c3661774",
   "metadata": {},
   "source": [
    "# Define parameters"
   ]
  },
  {
   "cell_type": "markdown",
   "id": "3a82cd23-a49a-4c54-b29d-bc20ed48c325",
   "metadata": {},
   "source": [
    "### File path and celltype"
   ]
  },
  {
   "cell_type": "code",
   "execution_count": 5,
   "id": "8e098af8-ce7a-4787-b148-41eb2665439c",
   "metadata": {},
   "outputs": [],
   "source": [
    "COLOR_PAlETTE=fromJSON(file='../data/setting/ColorMap_R_sync.json')"
   ]
  },
  {
   "cell_type": "code",
   "execution_count": 6,
   "id": "b736ed49-f6fe-40f5-8756-67cc7c239f2a",
   "metadata": {},
   "outputs": [],
   "source": [
    "lr_network_path = '../data/external/lr_network_human_allInfo_30112033.rds'\n",
    "ligand_target_matrix_path  = '../data/external/ligand_target_matrix_nsga2r_final.rds'\n",
    "sample_id = \"Sample_Short\"\n",
    "celltype_id = \"Cellstate\"\n",
    "covariates = NA\n",
    "batches = NA\n",
    "obs_path = '../data/table/GEX_OBS_Cellstate.csv'\n",
    "Object_Output_Folder = '../data/object/cell_interaction'\n",
    "senders_oi = c('Macs_Endocytosis','Macs_Secretion','Macs_Adhesion','Macs_Interferon','Macs_Lipid',\n",
    "               'Tumor_EMT_III','Tumor_ER_II','Tumor_ER_I','Tumor_Cell_Cycle','Tumor_EMT_II',\n",
    "               'CD8T_Cytotoxic','CD8T_Naive','CD8T_Exhausted')\n",
    "receivers_oi =senders_oi"
   ]
  },
  {
   "cell_type": "markdown",
   "id": "53bba58d-f9cb-480e-bb1a-06691942989c",
   "metadata": {},
   "source": [
    "### Parameters for Cell type filtering"
   ]
  },
  {
   "cell_type": "markdown",
   "id": "0711860a-68b8-44e2-b2b7-b574b47b173e",
   "metadata": {},
   "source": [
    "### minimum number of cells per cell type per sample at 10 (recommended minimum).\n",
    "\n",
    "Samples that have less than min_cells cells will be excluded from the analysis for that specific cell type."
   ]
  },
  {
   "cell_type": "code",
   "execution_count": 7,
   "id": "f1ef9f9a-f399-4fd2-a7a4-5bd032c2ebd0",
   "metadata": {},
   "outputs": [],
   "source": [
    "min_cells = 10"
   ]
  },
  {
   "cell_type": "markdown",
   "id": "1b1c39d9-b0a2-479d-a3d0-083d634cab9a",
   "metadata": {},
   "source": [
    "### Parameters for Gene filtering\n",
    "For each cell type, we will consider genes expressed if they are expressed in at least a min_sample_prop fraction of samples in the condition with the lowest number of samples. By default, we set min_sample_prop = 0.50."
   ]
  },
  {
   "cell_type": "code",
   "execution_count": 8,
   "id": "3e24ff44-3c57-44ec-87e7-638ab538a143",
   "metadata": {},
   "outputs": [],
   "source": [
    "min_sample_prop = 0.50"
   ]
  },
  {
   "cell_type": "markdown",
   "id": "7e45f605-7ebf-40e4-bb71-246ad12ec82a",
   "metadata": {},
   "source": [
    "For each cell type, we will consider genes expressed if they are expressed in at least a min_sample_prop fraction of samples in the condition with the lowest number of samples. By default, we set min_sample_prop = 0.50."
   ]
  },
  {
   "cell_type": "code",
   "execution_count": 9,
   "id": "7e782a38-ba22-4faf-94d4-087d73483c47",
   "metadata": {},
   "outputs": [],
   "source": [
    "fraction_cutoff = 0.05 "
   ]
  },
  {
   "cell_type": "markdown",
   "id": "e136e86a-2217-40cc-8852-e51a42449df8",
   "metadata": {},
   "source": [
    "###  Parameters for ligand activity prediction\n",
    "\n",
    "We will here choose for applying the p-value cutoff on the normal p-values, and not on the p-values corrected for multiple testing. This choice was made here because this dataset has only a few samples per group and we might have a lack of statistical power due to pseudobulking."
   ]
  },
  {
   "cell_type": "code",
   "execution_count": 10,
   "id": "d66ce5c7-1c05-43b8-b732-2d77bbd57a02",
   "metadata": {},
   "outputs": [],
   "source": [
    "logFC_threshold = 0.50\n",
    "p_val_threshold = 0.05\n",
    "p_val_adj = FALSE"
   ]
  },
  {
   "cell_type": "markdown",
   "id": "17cae622-1bf7-4384-8b85-819089338c68",
   "metadata": {},
   "source": [
    "After the ligand activity prediction, we will also infer the predicted target genes of these ligands in each contrast. For this ligand-target inference procedure, we also need to select which top n of the predicted target genes will be considered (here: top 250 targets per ligand). This parameter will not affect the ligand activity predictions. It will only affect ligand-target visualizations and construction of the intercellular regulatory network during the downstream analysis. We recommend users to test other settings in case they would be interested in exploring fewer, but more confident target genes, or vice versa."
   ]
  },
  {
   "cell_type": "code",
   "execution_count": 11,
   "id": "16c31acc-2013-4717-86ae-c2f7e32f8794",
   "metadata": {},
   "outputs": [],
   "source": [
    "top_n_target = 250"
   ]
  },
  {
   "cell_type": "markdown",
   "id": "39850e82-80ff-4eb1-9c19-259226e1fdc0",
   "metadata": {},
   "source": [
    "### Number of cores"
   ]
  },
  {
   "cell_type": "code",
   "execution_count": 12,
   "id": "e2183ccc-3986-4958-8a9f-f459c8ef9a8b",
   "metadata": {},
   "outputs": [],
   "source": [
    "cores_system = 8"
   ]
  },
  {
   "cell_type": "markdown",
   "id": "0281902d-8d67-43d6-95a1-faea1c3719b8",
   "metadata": {},
   "source": [
    "### Parameters for prioritization\n",
    "\n",
    "We will use the following criteria to prioritize ligand-receptor interactions:\n",
    "\n",
    "- Upregulation of the ligand in a sender cell type and/or upregulation of the receptor in a receiver cell type - in the condition of interest.\n",
    "- Cell-type specific expression of the ligand in the sender cell type and receptor in the receiver cell type in the condition of interest (to mitigate the influence of upregulated but still relatively weakly expressed ligands/receptors).\n",
    "- Sufficiently high expression levels of ligand and receptor in many samples of the same group.\n",
    "- High NicheNet ligand activity, to further prioritize ligand-receptor pairs based on their predicted effect of the ligand-receptor interaction on the gene expression in the receiver cell type.\n",
    "  \n",
    "We will combine these prioritization criteria in a single aggregated prioritization score. In the default setting, we will weigh each of these criteria equally (scenario = \"regular\"). This setting is strongly recommended. However, we also provide some additional setting to accomodate different biological scenarios. The setting scenario = \"lower_DE\" halves the weight for DE criteria and doubles the weight for ligand activity. This is recommended in case your hypothesis is that the differential CCC patterns in your data are less likely to be driven by DE (eg in cases of differential migration into a niche). The setting scenario = \"no_frac_LR_expr\" ignores the criterion \"Sufficiently high expression levels of ligand and receptor in many samples of the same group\". This may be interesting for users that have data with a limited number of samples and don’t want to penalize interactions if they are not sufficiently expressed in some samples."
   ]
  },
  {
   "cell_type": "code",
   "execution_count": 13,
   "id": "942c787d-a1f4-4c06-8c11-a012b5e91ab5",
   "metadata": {},
   "outputs": [],
   "source": [
    "scenario = \"regular\""
   ]
  },
  {
   "cell_type": "markdown",
   "id": "f85d8944-572f-4a5e-ae0e-401ae6c23b6a",
   "metadata": {},
   "source": [
    "Finally, we still need to make one choice. For NicheNet ligand activity we can choose to prioritize ligands that only induce upregulation of target genes (ligand_activity_down = FALSE) or can lead potentially lead to both up- and downregulation (ligand_activity_down = TRUE). The benefit of ligand_activity_down = FALSE is ease of interpretability: prioritized ligand-receptor pairs will be upregulated in the condition of interest, just like their target genes. ligand_activity_down = TRUE can be harder to interpret because target genes of some interactions may be upregulated in the other conditions compared to the condition of interest. This is harder to interpret, but may help to pick up interactions that can also repress gene expression."
   ]
  },
  {
   "cell_type": "code",
   "execution_count": 14,
   "id": "b8814f9c-3f0a-4400-8e8b-2e2bad03e19b",
   "metadata": {},
   "outputs": [],
   "source": [
    "ligand_activity_down = FALSE"
   ]
  },
  {
   "cell_type": "markdown",
   "id": "a1943ff7-5f11-48c5-8bbf-ca6eddb74892",
   "metadata": {},
   "source": [
    "# Preprare Data"
   ]
  },
  {
   "cell_type": "markdown",
   "id": "b74a2312-0388-4a2a-bcbf-9fd555bb3ab3",
   "metadata": {},
   "source": [
    "## Load ligand-receptor network database"
   ]
  },
  {
   "cell_type": "code",
   "execution_count": 15,
   "id": "9d0be932-d1ec-4941-9db9-3c97408b31aa",
   "metadata": {},
   "outputs": [],
   "source": [
    "lr_network = readRDS(lr_network_path)\n",
    "ligand_target_matrix = readRDS(ligand_target_matrix_path)"
   ]
  },
  {
   "cell_type": "markdown",
   "id": "af7cb821-d45a-48cb-a815-dd32c276b333",
   "metadata": {},
   "source": [
    "## Celltype annotation data"
   ]
  },
  {
   "cell_type": "code",
   "execution_count": 16,
   "id": "5e232a91-f6e9-4117-b46d-cb83e96705dc",
   "metadata": {},
   "outputs": [
    {
     "data": {
      "text/html": [
       "<table class=\"dataframe\">\n",
       "<caption>A data.frame: 6 × 19</caption>\n",
       "<thead>\n",
       "\t<tr><th></th><th scope=col>Sample_Short</th><th scope=col>Sample</th><th scope=col>Compartment</th><th scope=col>Lineage</th><th scope=col>Celltype</th><th scope=col>Cellstate</th><th scope=col>CCG_ID</th><th scope=col>BluePrint</th><th scope=col>AC_Treatment</th><th scope=col>Tech</th><th scope=col>WES_Profile</th><th scope=col>BulkRNA_Profile</th><th scope=col>PAM50</th><th scope=col>BestResponse</th><th scope=col>Timepoint</th><th scope=col>stage</th><th scope=col>Patient</th><th scope=col>Treatment_Arm</th><th scope=col>br_short</th></tr>\n",
       "\t<tr><th></th><th scope=col>&lt;chr&gt;</th><th scope=col>&lt;chr&gt;</th><th scope=col>&lt;chr&gt;</th><th scope=col>&lt;chr&gt;</th><th scope=col>&lt;chr&gt;</th><th scope=col>&lt;chr&gt;</th><th scope=col>&lt;chr&gt;</th><th scope=col>&lt;chr&gt;</th><th scope=col>&lt;chr&gt;</th><th scope=col>&lt;chr&gt;</th><th scope=col>&lt;chr&gt;</th><th scope=col>&lt;chr&gt;</th><th scope=col>&lt;chr&gt;</th><th scope=col>&lt;chr&gt;</th><th scope=col>&lt;chr&gt;</th><th scope=col>&lt;chr&gt;</th><th scope=col>&lt;chr&gt;</th><th scope=col>&lt;chr&gt;</th><th scope=col>&lt;chr&gt;</th></tr>\n",
       "</thead>\n",
       "<tbody>\n",
       "\t<tr><th scope=row>GTATGTGGTCCTCCAA-1_CCG1112_16_T4_A1_CCG1112_MO_Batch1</th><td>P16.T4</td><td>CCG1112_16_T4_A1</td><td>Immune</td><td>Plasma </td><td>Plasma</td><td><span style=white-space:pre-wrap>Plasma          </span></td><td>CCG1112_16_T4_A1</td><td>LumB</td><td>Yes</td><td>Multiome ATAC + Gene Expression</td><td>N</td><td>N</td><td>N/A</td><td>unfavorable response\n",
       "(RCB II-III)</td><td>Pre_surgery</td><td>II</td><td>P16</td><td>Chemo_&gt;Combo</td><td>NR</td></tr>\n",
       "\t<tr><th scope=row>AACAAGCCAACAGGAT-1_CCG1112_16_T4_A1_CCG1112_MO_Batch1</th><td>P16.T4</td><td>CCG1112_16_T4_A1</td><td>Immune</td><td>Myeloid</td><td><span style=white-space:pre-wrap>Macs  </span></td><td>Macs_Endocytosis</td><td>CCG1112_16_T4_A1</td><td>LumB</td><td>Yes</td><td>Multiome ATAC + Gene Expression</td><td>N</td><td>N</td><td>N/A</td><td>unfavorable response\n",
       "(RCB II-III)</td><td>Pre_surgery</td><td>II</td><td>P16</td><td>Chemo_&gt;Combo</td><td>NR</td></tr>\n",
       "\t<tr><th scope=row>TTATAGCCATATAACC-1_CCG1112_16_T4_A1_CCG1112_MO_Batch1</th><td>P16.T4</td><td>CCG1112_16_T4_A1</td><td>Immune</td><td>Myeloid</td><td><span style=white-space:pre-wrap>Macs  </span></td><td><span style=white-space:pre-wrap>Macs_Secretion  </span></td><td>CCG1112_16_T4_A1</td><td>LumB</td><td>Yes</td><td>Multiome ATAC + Gene Expression</td><td>N</td><td>N</td><td>N/A</td><td>unfavorable response\n",
       "(RCB II-III)</td><td>Pre_surgery</td><td>II</td><td>P16</td><td>Chemo_&gt;Combo</td><td>NR</td></tr>\n",
       "\t<tr><th scope=row>ATCACAATCCCTCTAA-1_CCG1112_16_T4_A1_CCG1112_MO_Batch1</th><td>P16.T4</td><td>CCG1112_16_T4_A1</td><td>Immune</td><td>Myeloid</td><td><span style=white-space:pre-wrap>Macs  </span></td><td>Macs_Endocytosis</td><td>CCG1112_16_T4_A1</td><td>LumB</td><td>Yes</td><td>Multiome ATAC + Gene Expression</td><td>N</td><td>N</td><td>N/A</td><td>unfavorable response\n",
       "(RCB II-III)</td><td>Pre_surgery</td><td>II</td><td>P16</td><td>Chemo_&gt;Combo</td><td>NR</td></tr>\n",
       "\t<tr><th scope=row>CCTCAAACAGGCATGA-1_CCG1112_16_T4_A1_CCG1112_MO_Batch1</th><td>P16.T4</td><td>CCG1112_16_T4_A1</td><td>Immune</td><td>Myeloid</td><td><span style=white-space:pre-wrap>Macs  </span></td><td><span style=white-space:pre-wrap>Macs_Adhesion   </span></td><td>CCG1112_16_T4_A1</td><td>LumB</td><td>Yes</td><td>Multiome ATAC + Gene Expression</td><td>N</td><td>N</td><td>N/A</td><td>unfavorable response\n",
       "(RCB II-III)</td><td>Pre_surgery</td><td>II</td><td>P16</td><td>Chemo_&gt;Combo</td><td>NR</td></tr>\n",
       "\t<tr><th scope=row>AGTCAATGTCAATACG-1_CCG1112_16_T4_A1_CCG1112_MO_Batch1</th><td>P16.T4</td><td>CCG1112_16_T4_A1</td><td>Immune</td><td>Myeloid</td><td><span style=white-space:pre-wrap>Macs  </span></td><td>Macs_Endocytosis</td><td>CCG1112_16_T4_A1</td><td>LumB</td><td>Yes</td><td>Multiome ATAC + Gene Expression</td><td>N</td><td>N</td><td>N/A</td><td>unfavorable response\n",
       "(RCB II-III)</td><td>Pre_surgery</td><td>II</td><td>P16</td><td>Chemo_&gt;Combo</td><td>NR</td></tr>\n",
       "</tbody>\n",
       "</table>\n"
      ],
      "text/latex": [
       "A data.frame: 6 × 19\n",
       "\\begin{tabular}{r|lllllllllllllllllll}\n",
       "  & Sample\\_Short & Sample & Compartment & Lineage & Celltype & Cellstate & CCG\\_ID & BluePrint & AC\\_Treatment & Tech & WES\\_Profile & BulkRNA\\_Profile & PAM50 & BestResponse & Timepoint & stage & Patient & Treatment\\_Arm & br\\_short\\\\\n",
       "  & <chr> & <chr> & <chr> & <chr> & <chr> & <chr> & <chr> & <chr> & <chr> & <chr> & <chr> & <chr> & <chr> & <chr> & <chr> & <chr> & <chr> & <chr> & <chr>\\\\\n",
       "\\hline\n",
       "\tGTATGTGGTCCTCCAA-1\\_CCG1112\\_16\\_T4\\_A1\\_CCG1112\\_MO\\_Batch1 & P16.T4 & CCG1112\\_16\\_T4\\_A1 & Immune & Plasma  & Plasma & Plasma           & CCG1112\\_16\\_T4\\_A1 & LumB & Yes & Multiome ATAC + Gene Expression & N & N & N/A & unfavorable response\n",
       "(RCB II-III) & Pre\\_surgery & II & P16 & Chemo\\_>Combo & NR\\\\\n",
       "\tAACAAGCCAACAGGAT-1\\_CCG1112\\_16\\_T4\\_A1\\_CCG1112\\_MO\\_Batch1 & P16.T4 & CCG1112\\_16\\_T4\\_A1 & Immune & Myeloid & Macs   & Macs\\_Endocytosis & CCG1112\\_16\\_T4\\_A1 & LumB & Yes & Multiome ATAC + Gene Expression & N & N & N/A & unfavorable response\n",
       "(RCB II-III) & Pre\\_surgery & II & P16 & Chemo\\_>Combo & NR\\\\\n",
       "\tTTATAGCCATATAACC-1\\_CCG1112\\_16\\_T4\\_A1\\_CCG1112\\_MO\\_Batch1 & P16.T4 & CCG1112\\_16\\_T4\\_A1 & Immune & Myeloid & Macs   & Macs\\_Secretion   & CCG1112\\_16\\_T4\\_A1 & LumB & Yes & Multiome ATAC + Gene Expression & N & N & N/A & unfavorable response\n",
       "(RCB II-III) & Pre\\_surgery & II & P16 & Chemo\\_>Combo & NR\\\\\n",
       "\tATCACAATCCCTCTAA-1\\_CCG1112\\_16\\_T4\\_A1\\_CCG1112\\_MO\\_Batch1 & P16.T4 & CCG1112\\_16\\_T4\\_A1 & Immune & Myeloid & Macs   & Macs\\_Endocytosis & CCG1112\\_16\\_T4\\_A1 & LumB & Yes & Multiome ATAC + Gene Expression & N & N & N/A & unfavorable response\n",
       "(RCB II-III) & Pre\\_surgery & II & P16 & Chemo\\_>Combo & NR\\\\\n",
       "\tCCTCAAACAGGCATGA-1\\_CCG1112\\_16\\_T4\\_A1\\_CCG1112\\_MO\\_Batch1 & P16.T4 & CCG1112\\_16\\_T4\\_A1 & Immune & Myeloid & Macs   & Macs\\_Adhesion    & CCG1112\\_16\\_T4\\_A1 & LumB & Yes & Multiome ATAC + Gene Expression & N & N & N/A & unfavorable response\n",
       "(RCB II-III) & Pre\\_surgery & II & P16 & Chemo\\_>Combo & NR\\\\\n",
       "\tAGTCAATGTCAATACG-1\\_CCG1112\\_16\\_T4\\_A1\\_CCG1112\\_MO\\_Batch1 & P16.T4 & CCG1112\\_16\\_T4\\_A1 & Immune & Myeloid & Macs   & Macs\\_Endocytosis & CCG1112\\_16\\_T4\\_A1 & LumB & Yes & Multiome ATAC + Gene Expression & N & N & N/A & unfavorable response\n",
       "(RCB II-III) & Pre\\_surgery & II & P16 & Chemo\\_>Combo & NR\\\\\n",
       "\\end{tabular}\n"
      ],
      "text/markdown": [
       "\n",
       "A data.frame: 6 × 19\n",
       "\n",
       "| <!--/--> | Sample_Short &lt;chr&gt; | Sample &lt;chr&gt; | Compartment &lt;chr&gt; | Lineage &lt;chr&gt; | Celltype &lt;chr&gt; | Cellstate &lt;chr&gt; | CCG_ID &lt;chr&gt; | BluePrint &lt;chr&gt; | AC_Treatment &lt;chr&gt; | Tech &lt;chr&gt; | WES_Profile &lt;chr&gt; | BulkRNA_Profile &lt;chr&gt; | PAM50 &lt;chr&gt; | BestResponse &lt;chr&gt; | Timepoint &lt;chr&gt; | stage &lt;chr&gt; | Patient &lt;chr&gt; | Treatment_Arm &lt;chr&gt; | br_short &lt;chr&gt; |\n",
       "|---|---|---|---|---|---|---|---|---|---|---|---|---|---|---|---|---|---|---|---|\n",
       "| GTATGTGGTCCTCCAA-1_CCG1112_16_T4_A1_CCG1112_MO_Batch1 | P16.T4 | CCG1112_16_T4_A1 | Immune | Plasma  | Plasma | Plasma           | CCG1112_16_T4_A1 | LumB | Yes | Multiome ATAC + Gene Expression | N | N | N/A | unfavorable response\n",
       "(RCB II-III) | Pre_surgery | II | P16 | Chemo_&gt;Combo | NR |\n",
       "| AACAAGCCAACAGGAT-1_CCG1112_16_T4_A1_CCG1112_MO_Batch1 | P16.T4 | CCG1112_16_T4_A1 | Immune | Myeloid | Macs   | Macs_Endocytosis | CCG1112_16_T4_A1 | LumB | Yes | Multiome ATAC + Gene Expression | N | N | N/A | unfavorable response\n",
       "(RCB II-III) | Pre_surgery | II | P16 | Chemo_&gt;Combo | NR |\n",
       "| TTATAGCCATATAACC-1_CCG1112_16_T4_A1_CCG1112_MO_Batch1 | P16.T4 | CCG1112_16_T4_A1 | Immune | Myeloid | Macs   | Macs_Secretion   | CCG1112_16_T4_A1 | LumB | Yes | Multiome ATAC + Gene Expression | N | N | N/A | unfavorable response\n",
       "(RCB II-III) | Pre_surgery | II | P16 | Chemo_&gt;Combo | NR |\n",
       "| ATCACAATCCCTCTAA-1_CCG1112_16_T4_A1_CCG1112_MO_Batch1 | P16.T4 | CCG1112_16_T4_A1 | Immune | Myeloid | Macs   | Macs_Endocytosis | CCG1112_16_T4_A1 | LumB | Yes | Multiome ATAC + Gene Expression | N | N | N/A | unfavorable response\n",
       "(RCB II-III) | Pre_surgery | II | P16 | Chemo_&gt;Combo | NR |\n",
       "| CCTCAAACAGGCATGA-1_CCG1112_16_T4_A1_CCG1112_MO_Batch1 | P16.T4 | CCG1112_16_T4_A1 | Immune | Myeloid | Macs   | Macs_Adhesion    | CCG1112_16_T4_A1 | LumB | Yes | Multiome ATAC + Gene Expression | N | N | N/A | unfavorable response\n",
       "(RCB II-III) | Pre_surgery | II | P16 | Chemo_&gt;Combo | NR |\n",
       "| AGTCAATGTCAATACG-1_CCG1112_16_T4_A1_CCG1112_MO_Batch1 | P16.T4 | CCG1112_16_T4_A1 | Immune | Myeloid | Macs   | Macs_Endocytosis | CCG1112_16_T4_A1 | LumB | Yes | Multiome ATAC + Gene Expression | N | N | N/A | unfavorable response\n",
       "(RCB II-III) | Pre_surgery | II | P16 | Chemo_&gt;Combo | NR |\n",
       "\n"
      ],
      "text/plain": [
       "                                                      Sample_Short\n",
       "GTATGTGGTCCTCCAA-1_CCG1112_16_T4_A1_CCG1112_MO_Batch1 P16.T4      \n",
       "AACAAGCCAACAGGAT-1_CCG1112_16_T4_A1_CCG1112_MO_Batch1 P16.T4      \n",
       "TTATAGCCATATAACC-1_CCG1112_16_T4_A1_CCG1112_MO_Batch1 P16.T4      \n",
       "ATCACAATCCCTCTAA-1_CCG1112_16_T4_A1_CCG1112_MO_Batch1 P16.T4      \n",
       "CCTCAAACAGGCATGA-1_CCG1112_16_T4_A1_CCG1112_MO_Batch1 P16.T4      \n",
       "AGTCAATGTCAATACG-1_CCG1112_16_T4_A1_CCG1112_MO_Batch1 P16.T4      \n",
       "                                                      Sample          \n",
       "GTATGTGGTCCTCCAA-1_CCG1112_16_T4_A1_CCG1112_MO_Batch1 CCG1112_16_T4_A1\n",
       "AACAAGCCAACAGGAT-1_CCG1112_16_T4_A1_CCG1112_MO_Batch1 CCG1112_16_T4_A1\n",
       "TTATAGCCATATAACC-1_CCG1112_16_T4_A1_CCG1112_MO_Batch1 CCG1112_16_T4_A1\n",
       "ATCACAATCCCTCTAA-1_CCG1112_16_T4_A1_CCG1112_MO_Batch1 CCG1112_16_T4_A1\n",
       "CCTCAAACAGGCATGA-1_CCG1112_16_T4_A1_CCG1112_MO_Batch1 CCG1112_16_T4_A1\n",
       "AGTCAATGTCAATACG-1_CCG1112_16_T4_A1_CCG1112_MO_Batch1 CCG1112_16_T4_A1\n",
       "                                                      Compartment Lineage\n",
       "GTATGTGGTCCTCCAA-1_CCG1112_16_T4_A1_CCG1112_MO_Batch1 Immune      Plasma \n",
       "AACAAGCCAACAGGAT-1_CCG1112_16_T4_A1_CCG1112_MO_Batch1 Immune      Myeloid\n",
       "TTATAGCCATATAACC-1_CCG1112_16_T4_A1_CCG1112_MO_Batch1 Immune      Myeloid\n",
       "ATCACAATCCCTCTAA-1_CCG1112_16_T4_A1_CCG1112_MO_Batch1 Immune      Myeloid\n",
       "CCTCAAACAGGCATGA-1_CCG1112_16_T4_A1_CCG1112_MO_Batch1 Immune      Myeloid\n",
       "AGTCAATGTCAATACG-1_CCG1112_16_T4_A1_CCG1112_MO_Batch1 Immune      Myeloid\n",
       "                                                      Celltype Cellstate       \n",
       "GTATGTGGTCCTCCAA-1_CCG1112_16_T4_A1_CCG1112_MO_Batch1 Plasma   Plasma          \n",
       "AACAAGCCAACAGGAT-1_CCG1112_16_T4_A1_CCG1112_MO_Batch1 Macs     Macs_Endocytosis\n",
       "TTATAGCCATATAACC-1_CCG1112_16_T4_A1_CCG1112_MO_Batch1 Macs     Macs_Secretion  \n",
       "ATCACAATCCCTCTAA-1_CCG1112_16_T4_A1_CCG1112_MO_Batch1 Macs     Macs_Endocytosis\n",
       "CCTCAAACAGGCATGA-1_CCG1112_16_T4_A1_CCG1112_MO_Batch1 Macs     Macs_Adhesion   \n",
       "AGTCAATGTCAATACG-1_CCG1112_16_T4_A1_CCG1112_MO_Batch1 Macs     Macs_Endocytosis\n",
       "                                                      CCG_ID          \n",
       "GTATGTGGTCCTCCAA-1_CCG1112_16_T4_A1_CCG1112_MO_Batch1 CCG1112_16_T4_A1\n",
       "AACAAGCCAACAGGAT-1_CCG1112_16_T4_A1_CCG1112_MO_Batch1 CCG1112_16_T4_A1\n",
       "TTATAGCCATATAACC-1_CCG1112_16_T4_A1_CCG1112_MO_Batch1 CCG1112_16_T4_A1\n",
       "ATCACAATCCCTCTAA-1_CCG1112_16_T4_A1_CCG1112_MO_Batch1 CCG1112_16_T4_A1\n",
       "CCTCAAACAGGCATGA-1_CCG1112_16_T4_A1_CCG1112_MO_Batch1 CCG1112_16_T4_A1\n",
       "AGTCAATGTCAATACG-1_CCG1112_16_T4_A1_CCG1112_MO_Batch1 CCG1112_16_T4_A1\n",
       "                                                      BluePrint AC_Treatment\n",
       "GTATGTGGTCCTCCAA-1_CCG1112_16_T4_A1_CCG1112_MO_Batch1 LumB      Yes         \n",
       "AACAAGCCAACAGGAT-1_CCG1112_16_T4_A1_CCG1112_MO_Batch1 LumB      Yes         \n",
       "TTATAGCCATATAACC-1_CCG1112_16_T4_A1_CCG1112_MO_Batch1 LumB      Yes         \n",
       "ATCACAATCCCTCTAA-1_CCG1112_16_T4_A1_CCG1112_MO_Batch1 LumB      Yes         \n",
       "CCTCAAACAGGCATGA-1_CCG1112_16_T4_A1_CCG1112_MO_Batch1 LumB      Yes         \n",
       "AGTCAATGTCAATACG-1_CCG1112_16_T4_A1_CCG1112_MO_Batch1 LumB      Yes         \n",
       "                                                      Tech                           \n",
       "GTATGTGGTCCTCCAA-1_CCG1112_16_T4_A1_CCG1112_MO_Batch1 Multiome ATAC + Gene Expression\n",
       "AACAAGCCAACAGGAT-1_CCG1112_16_T4_A1_CCG1112_MO_Batch1 Multiome ATAC + Gene Expression\n",
       "TTATAGCCATATAACC-1_CCG1112_16_T4_A1_CCG1112_MO_Batch1 Multiome ATAC + Gene Expression\n",
       "ATCACAATCCCTCTAA-1_CCG1112_16_T4_A1_CCG1112_MO_Batch1 Multiome ATAC + Gene Expression\n",
       "CCTCAAACAGGCATGA-1_CCG1112_16_T4_A1_CCG1112_MO_Batch1 Multiome ATAC + Gene Expression\n",
       "AGTCAATGTCAATACG-1_CCG1112_16_T4_A1_CCG1112_MO_Batch1 Multiome ATAC + Gene Expression\n",
       "                                                      WES_Profile\n",
       "GTATGTGGTCCTCCAA-1_CCG1112_16_T4_A1_CCG1112_MO_Batch1 N          \n",
       "AACAAGCCAACAGGAT-1_CCG1112_16_T4_A1_CCG1112_MO_Batch1 N          \n",
       "TTATAGCCATATAACC-1_CCG1112_16_T4_A1_CCG1112_MO_Batch1 N          \n",
       "ATCACAATCCCTCTAA-1_CCG1112_16_T4_A1_CCG1112_MO_Batch1 N          \n",
       "CCTCAAACAGGCATGA-1_CCG1112_16_T4_A1_CCG1112_MO_Batch1 N          \n",
       "AGTCAATGTCAATACG-1_CCG1112_16_T4_A1_CCG1112_MO_Batch1 N          \n",
       "                                                      BulkRNA_Profile PAM50\n",
       "GTATGTGGTCCTCCAA-1_CCG1112_16_T4_A1_CCG1112_MO_Batch1 N               N/A  \n",
       "AACAAGCCAACAGGAT-1_CCG1112_16_T4_A1_CCG1112_MO_Batch1 N               N/A  \n",
       "TTATAGCCATATAACC-1_CCG1112_16_T4_A1_CCG1112_MO_Batch1 N               N/A  \n",
       "ATCACAATCCCTCTAA-1_CCG1112_16_T4_A1_CCG1112_MO_Batch1 N               N/A  \n",
       "CCTCAAACAGGCATGA-1_CCG1112_16_T4_A1_CCG1112_MO_Batch1 N               N/A  \n",
       "AGTCAATGTCAATACG-1_CCG1112_16_T4_A1_CCG1112_MO_Batch1 N               N/A  \n",
       "                                                      BestResponse                      \n",
       "GTATGTGGTCCTCCAA-1_CCG1112_16_T4_A1_CCG1112_MO_Batch1 unfavorable response\\n(RCB II-III)\n",
       "AACAAGCCAACAGGAT-1_CCG1112_16_T4_A1_CCG1112_MO_Batch1 unfavorable response\\n(RCB II-III)\n",
       "TTATAGCCATATAACC-1_CCG1112_16_T4_A1_CCG1112_MO_Batch1 unfavorable response\\n(RCB II-III)\n",
       "ATCACAATCCCTCTAA-1_CCG1112_16_T4_A1_CCG1112_MO_Batch1 unfavorable response\\n(RCB II-III)\n",
       "CCTCAAACAGGCATGA-1_CCG1112_16_T4_A1_CCG1112_MO_Batch1 unfavorable response\\n(RCB II-III)\n",
       "AGTCAATGTCAATACG-1_CCG1112_16_T4_A1_CCG1112_MO_Batch1 unfavorable response\\n(RCB II-III)\n",
       "                                                      Timepoint   stage Patient\n",
       "GTATGTGGTCCTCCAA-1_CCG1112_16_T4_A1_CCG1112_MO_Batch1 Pre_surgery II    P16    \n",
       "AACAAGCCAACAGGAT-1_CCG1112_16_T4_A1_CCG1112_MO_Batch1 Pre_surgery II    P16    \n",
       "TTATAGCCATATAACC-1_CCG1112_16_T4_A1_CCG1112_MO_Batch1 Pre_surgery II    P16    \n",
       "ATCACAATCCCTCTAA-1_CCG1112_16_T4_A1_CCG1112_MO_Batch1 Pre_surgery II    P16    \n",
       "CCTCAAACAGGCATGA-1_CCG1112_16_T4_A1_CCG1112_MO_Batch1 Pre_surgery II    P16    \n",
       "AGTCAATGTCAATACG-1_CCG1112_16_T4_A1_CCG1112_MO_Batch1 Pre_surgery II    P16    \n",
       "                                                      Treatment_Arm br_short\n",
       "GTATGTGGTCCTCCAA-1_CCG1112_16_T4_A1_CCG1112_MO_Batch1 Chemo_>Combo  NR      \n",
       "AACAAGCCAACAGGAT-1_CCG1112_16_T4_A1_CCG1112_MO_Batch1 Chemo_>Combo  NR      \n",
       "TTATAGCCATATAACC-1_CCG1112_16_T4_A1_CCG1112_MO_Batch1 Chemo_>Combo  NR      \n",
       "ATCACAATCCCTCTAA-1_CCG1112_16_T4_A1_CCG1112_MO_Batch1 Chemo_>Combo  NR      \n",
       "CCTCAAACAGGCATGA-1_CCG1112_16_T4_A1_CCG1112_MO_Batch1 Chemo_>Combo  NR      \n",
       "AGTCAATGTCAATACG-1_CCG1112_16_T4_A1_CCG1112_MO_Batch1 Chemo_>Combo  NR      "
      ]
     },
     "metadata": {},
     "output_type": "display_data"
    }
   ],
   "source": [
    "celltype_col = celltype_id\n",
    "obs = data.frame(fread(obs_path),row.names=1)\n",
    "obs = obs %>% \n",
    "    mutate(Timepoint=replaceChars(Timepoint)) %>%\n",
    "    mutate(Treatment_Arm=replaceChars(Treatment_Arm))\n",
    "obs$Cellstate = replaceChars(obs[,celltype_col])\n",
    "head(obs)"
   ]
  },
  {
   "cell_type": "markdown",
   "id": "b307889b-217b-4ecb-8045-4f960ede69fb",
   "metadata": {},
   "source": [
    "## Load GEX h5ad data"
   ]
  },
  {
   "cell_type": "code",
   "execution_count": 17,
   "id": "23361fa3-73aa-4643-8f8e-b32a3e8ddfca",
   "metadata": {},
   "outputs": [],
   "source": [
    "h5ad_file = '../data/object/gex_all.h5ad'\n",
    "data_list = loadh5ad(inh5ad =h5ad_file)\n",
    "data_list$obs =  data_list$obs %>% \n",
    "    tibble::rownames_to_column(var=\"X\") %>%\n",
    "    left_join(obs %>% tibble::rownames_to_column(var='X'),by='X')%>%\n",
    "    tibble::column_to_rownames(var='X')"
   ]
  },
  {
   "cell_type": "markdown",
   "id": "566f8197-4f29-4512-bcfa-afea5eeb4002",
   "metadata": {},
   "source": [
    "## Create SCE object"
   ]
  },
  {
   "cell_type": "code",
   "execution_count": null,
   "id": "d6d0e5f8-a82e-4495-a740-1e64d2fdcddd",
   "metadata": {},
   "outputs": [],
   "source": [
    "sce_all = SingleCellExperiment(list(counts=data_list$counts),colData=data_list$obs)\n",
    "sce_all"
   ]
  },
  {
   "cell_type": "code",
   "execution_count": null,
   "id": "efe46623-4502-4a94-a42c-c078e9b55039",
   "metadata": {
    "scrolled": true,
    "tags": []
   },
   "outputs": [],
   "source": [
    "sce_all = alias_to_symbol_SCE(sce_all, \"human\") %>% makenames_SCE()"
   ]
  },
  {
   "cell_type": "markdown",
   "id": "38519468-c088-46ac-898e-336db8ea59f0",
   "metadata": {},
   "source": [
    "# Compare R vs NR"
   ]
  },
  {
   "cell_type": "code",
   "execution_count": null,
   "id": "263070cc-28a4-4432-a948-8a632ec3b602",
   "metadata": {},
   "outputs": [],
   "source": [
    "group_id = \"br_short\"\n",
    "compared_groups =  c(\"R\",\"NR\")"
   ]
  },
  {
   "cell_type": "code",
   "execution_count": null,
   "id": "07eb4881-79db-4b92-b77f-cc78227c3e2d",
   "metadata": {},
   "outputs": [],
   "source": [
    "contrast = c(paste(compared_groups,collapse ='-'),\n",
    "  paste(c(compared_groups[2],compared_groups[1]),collapse ='-')\n",
    " )\n",
    "contrasts_oi = c(paste0(\"'\",paste(contrast,collapse =\"','\"),\"'\"))\n",
    "contrast_tbl = tibble(contrast =contrast,\n",
    "                      group = compared_groups) \n",
    "contrasts_oi"
   ]
  },
  {
   "cell_type": "markdown",
   "id": "c719e86e-0d62-48df-a0ac-252e5dc69685",
   "metadata": {},
   "source": [
    "## Subset cells that are in senders and receiver cell type"
   ]
  },
  {
   "cell_type": "code",
   "execution_count": null,
   "id": "fcd9feae-8e7e-4328-b757-79d7b58c2a79",
   "metadata": {
    "tags": []
   },
   "outputs": [],
   "source": [
    "sce = sce_all[, colData(sce_all)[,celltype_id] %in% c(senders_oi, receivers_oi)]\n",
    "sce = sce[, colData(sce)[,group_id] %in% compared_groups]\n",
    "sce"
   ]
  },
  {
   "cell_type": "markdown",
   "id": "8311578a-c6b2-4d27-b410-87c7278db61b",
   "metadata": {},
   "source": [
    "## Perform MultiNicheNet’s cell-cell communication analysis"
   ]
  },
  {
   "cell_type": "code",
   "execution_count": null,
   "id": "b2dc0dde-86e6-4943-96c4-095c962cb4ef",
   "metadata": {},
   "outputs": [],
   "source": [
    "n.cores = min(cores_system, union(senders_oi, receivers_oi) %>% length()) # use one core per receiver cell type"
   ]
  },
  {
   "cell_type": "markdown",
   "id": "694a91a1-f273-4659-aedb-941f24819d26",
   "metadata": {},
   "source": [
    "#### Celltype-filtering"
   ]
  },
  {
   "cell_type": "code",
   "execution_count": null,
   "id": "5a8c4111-4fea-42c5-a3d7-a05f0a15997e",
   "metadata": {},
   "outputs": [],
   "source": [
    "abundance_info = get_abundance_info(\n",
    "  sce = sce, \n",
    "  sample_id = sample_id, group_id = group_id, celltype_id = celltype_id, \n",
    "  min_cells = min_cells, \n",
    "  senders_oi = senders_oi, receivers_oi = receivers_oi, \n",
    "  batches = batches\n",
    "  )\n",
    "abundance_info$abund_plot_sample"
   ]
  },
  {
   "cell_type": "markdown",
   "id": "3263aeac-56e4-4f20-acd7-7e177b36e90e",
   "metadata": {},
   "source": [
    "#### Gene filtering"
   ]
  },
  {
   "cell_type": "code",
   "execution_count": null,
   "id": "761b78aa-d888-4f8b-bc42-9e067560652f",
   "metadata": {},
   "outputs": [],
   "source": [
    "frq_list = get_frac_exprs(\n",
    "  sce = sce, \n",
    "  sample_id = sample_id, celltype_id =  celltype_id, group_id = group_id, \n",
    "  batches = batches, \n",
    "  min_cells = min_cells, \n",
    "  fraction_cutoff = fraction_cutoff, min_sample_prop = min_sample_prop)"
   ]
  },
  {
   "cell_type": "markdown",
   "id": "da675b1f-8ffd-46f8-ac1c-fc517562efe0",
   "metadata": {},
   "source": [
    "now only keep genes that are expressed by at least one cell type:"
   ]
  },
  {
   "cell_type": "code",
   "execution_count": null,
   "id": "89e3c79a-5048-4f06-929d-608171cbbd5e",
   "metadata": {},
   "outputs": [],
   "source": [
    "genes_oi = frq_list$expressed_df %>% \n",
    "  filter(expressed == TRUE) %>% pull(gene) %>% unique() \n",
    "sce = sce[genes_oi, ]"
   ]
  },
  {
   "cell_type": "markdown",
   "id": "ee139474-6db6-499e-bc79-ed059b35c1db",
   "metadata": {},
   "source": [
    "#### Pseudobulk expression calculation\n",
    "determine and normalize per-sample pseudobulk expression levels for each expressed gene in each present cell type"
   ]
  },
  {
   "cell_type": "code",
   "execution_count": null,
   "id": "6dcc97e4-da66-4a90-ba5d-24f60783e27f",
   "metadata": {},
   "outputs": [],
   "source": [
    "abundance_expression_info = process_abundance_expression_info(\n",
    "  sce = sce, \n",
    "  sample_id = sample_id, group_id = group_id, celltype_id = celltype_id, \n",
    "  min_cells = min_cells, \n",
    "  senders_oi = senders_oi, receivers_oi = receivers_oi, \n",
    "  lr_network = lr_network, \n",
    "  batches = batches, \n",
    "  frq_list = frq_list, \n",
    "  abundance_info = abundance_info)"
   ]
  },
  {
   "cell_type": "markdown",
   "id": "646e01d8-171d-455e-b714-b4c6ff9f448e",
   "metadata": {},
   "source": [
    "#### Differential expression (DE) analysis\n",
    "determine which genes are differentially expressed"
   ]
  },
  {
   "cell_type": "code",
   "execution_count": null,
   "id": "646afe3c-403f-4d7e-a7fd-3ea78b3eaad2",
   "metadata": {},
   "outputs": [],
   "source": [
    "DE_info_group1 = get_DE_info(\n",
    "  sce = sce, \n",
    "  sample_id = sample_id, group_id = group_id, celltype_id = celltype_id, \n",
    "  batches = batches, covariates = covariates, \n",
    "  contrasts_oi = contrasts_oi, \n",
    "  min_cells = min_cells, \n",
    "  expressed_df = frq_list$expressed_df)"
   ]
  },
  {
   "cell_type": "markdown",
   "id": "7ca101e4-d892-44d0-903c-024d64db817d",
   "metadata": {},
   "source": [
    "Evaluate the distributions of p-values:"
   ]
  },
  {
   "cell_type": "code",
   "execution_count": null,
   "id": "e767fff7-2ee8-41a2-8c42-3bce9b7b5880",
   "metadata": {},
   "outputs": [],
   "source": [
    "options(repr.plot.width = 30, repr.plot.height = 10, repr.plot.res = 150)\n",
    "DE_info_group1$hist_pvals"
   ]
  },
  {
   "cell_type": "markdown",
   "id": "1ead03f4-363d-412d-b93e-e648dbd127be",
   "metadata": {},
   "source": [
    "These p-value distributions look fine, with a uniform distribution with a peak at p-value <= 0.05. "
   ]
  },
  {
   "cell_type": "code",
   "execution_count": null,
   "id": "420cb612-9033-43da-b001-997cd4114620",
   "metadata": {},
   "outputs": [],
   "source": [
    "empirical_pval = FALSE\n",
    "if(empirical_pval == TRUE){\n",
    "  DE_info_emp = get_empirical_pvals(DE_info_group1$celltype_de$de_output_tidy)\n",
    "  celltype_de_group1 = DE_info_emp$de_output_tidy_emp %>% select(-p_val, -p_adj) %>% \n",
    "    rename(p_val = p_emp, p_adj = p_adj_emp)\n",
    "} else {\n",
    "  celltype_de_group1 = DE_info_group1$celltype_de$de_output_tidy\n",
    "} "
   ]
  },
  {
   "cell_type": "markdown",
   "id": "b665c478-e874-457c-8817-d2f6dfeabcc4",
   "metadata": {},
   "source": [
    "#### Combine DE information for ligand-senders and receptors-receivers"
   ]
  },
  {
   "cell_type": "code",
   "execution_count": null,
   "id": "6677eceb-7c4a-4e5f-a57c-7dd5e98e202a",
   "metadata": {},
   "outputs": [],
   "source": [
    "sender_receiver_de = multinichenetr::combine_sender_receiver_de(\n",
    "  sender_de = celltype_de_group1,\n",
    "  receiver_de = celltype_de_group1,\n",
    "  senders_oi = senders_oi,\n",
    "  receivers_oi = receivers_oi,\n",
    "  lr_network = lr_network\n",
    ")"
   ]
  },
  {
   "cell_type": "markdown",
   "id": "386dd4ed-ba8e-4be1-9047-d5a669f5d223",
   "metadata": {},
   "source": [
    "Ligand activity prediction: use the DE analysis output to predict the activity of ligands in receiver cell types and infer their potential target genes\n",
    "\n",
    "We will first inspect the geneset_oi-vs-background ratios for the default tresholds:"
   ]
  },
  {
   "cell_type": "code",
   "execution_count": null,
   "id": "d4f26495-57d9-4556-ae2f-65359dae449a",
   "metadata": {},
   "outputs": [],
   "source": [
    "geneset_assessment = contrast_tbl$contrast %>% \n",
    "  lapply(\n",
    "    process_geneset_data, \n",
    "    celltype_de_group1, logFC_threshold, p_val_adj, p_val_threshold\n",
    "  ) %>% \n",
    "  bind_rows() \n",
    "geneset_assessment"
   ]
  },
  {
   "cell_type": "markdown",
   "id": "6e554923-958c-46f7-9e5d-969769f8f017",
   "metadata": {},
   "source": [
    "We can see here that for all cell type / contrast combinations, all geneset/background ratio's are within the recommended range (in_range_up and in_range_down columns). When these geneset/background ratio's would not be within the recommended ranges, we should interpret ligand activity results for these cell types with more caution, or use different thresholds (for these or all cell types)."
   ]
  },
  {
   "cell_type": "code",
   "execution_count": null,
   "id": "4a4f6da8-b922-4d7c-8d19-5100d856f414",
   "metadata": {},
   "outputs": [],
   "source": [
    "ligand_activities_targets_DEgenes = suppressMessages(suppressWarnings(\n",
    "  get_ligand_activities_targets_DEgenes(\n",
    "    receiver_de = celltype_de_group1,\n",
    "    receivers_oi = intersect(receivers_oi, celltype_de_group1$cluster_id %>% unique()),\n",
    "    ligand_target_matrix = ligand_target_matrix,\n",
    "    logFC_threshold = logFC_threshold,\n",
    "    p_val_threshold = p_val_threshold,\n",
    "    p_val_adj = p_val_adj,\n",
    "    top_n_target = top_n_target,\n",
    "    verbose = TRUE, \n",
    "    n.cores = n.cores\n",
    "  )\n",
    "))"
   ]
  },
  {
   "cell_type": "markdown",
   "id": "afe786a3-4364-4b8e-ab75-90837da91801",
   "metadata": {},
   "source": [
    "#### Prioritization: rank cell-cell communication patterns through multi-criteria prioritization"
   ]
  },
  {
   "cell_type": "code",
   "execution_count": null,
   "id": "b4683ada-c266-48ac-8433-b2eed6c9d14b",
   "metadata": {},
   "outputs": [],
   "source": [
    "sender_receiver_tbl = sender_receiver_de %>% distinct(sender, receiver)\n",
    "\n",
    "metadata_combined = SummarizedExperiment::colData(sce) %>% tibble::as_tibble()\n",
    "\n",
    "if(!is.na(batches)){\n",
    "  grouping_tbl = metadata_combined[,c(sample_id, group_id, batches)] %>% \n",
    "    tibble::as_tibble() %>% distinct()\n",
    "  colnames(grouping_tbl) = c(\"sample\",\"group\",batches)\n",
    "} else {\n",
    "  grouping_tbl = metadata_combined[,c(sample_id, group_id)] %>% \n",
    "    tibble::as_tibble() %>% distinct()\n",
    "  colnames(grouping_tbl) = c(\"sample\",\"group\")\n",
    "}\n",
    "\n",
    "prioritization_tables = suppressMessages(multinichenetr::generate_prioritization_tables(\n",
    "    sender_receiver_info = abundance_expression_info$sender_receiver_info,\n",
    "    sender_receiver_de = sender_receiver_de,\n",
    "    ligand_activities_targets_DEgenes = ligand_activities_targets_DEgenes,\n",
    "    contrast_tbl = contrast_tbl,\n",
    "    sender_receiver_tbl = sender_receiver_tbl,\n",
    "    grouping_tbl = grouping_tbl,\n",
    "    scenario = \"regular\", # all prioritization criteria will be weighted equally\n",
    "    fraction_cutoff = fraction_cutoff, \n",
    "    abundance_data_receiver = abundance_expression_info$abundance_data_receiver,\n",
    "    abundance_data_sender = abundance_expression_info$abundance_data_sender,\n",
    "    ligand_activity_down = ligand_activity_down\n",
    "  ))"
   ]
  },
  {
   "cell_type": "markdown",
   "id": "d2e4b085-e07c-4486-bd9f-f5bfb569add7",
   "metadata": {},
   "source": [
    "Compile the MultiNicheNet output object"
   ]
  },
  {
   "cell_type": "code",
   "execution_count": null,
   "id": "0dd8b05d-ce1b-44ac-9928-c6f294368c09",
   "metadata": {},
   "outputs": [],
   "source": [
    "multinichenet_output_group1_t2vst1 = list(\n",
    "    celltype_info = abundance_expression_info$celltype_info,\n",
    "    celltype_de = celltype_de_group1,\n",
    "    sender_receiver_info = abundance_expression_info$sender_receiver_info,\n",
    "    sender_receiver_de =  sender_receiver_de,\n",
    "    ligand_activities_targets_DEgenes = ligand_activities_targets_DEgenes,\n",
    "    prioritization_tables = prioritization_tables,\n",
    "    grouping_tbl = grouping_tbl,\n",
    "    lr_target_prior_cor = tibble()\n",
    "  ) \n",
    "multinichenet_output_group1_t2vst1 = make_lite_output(multinichenet_output_group1_t2vst1)"
   ]
  },
  {
   "cell_type": "markdown",
   "id": "0f2e1e40-5833-4076-a8e1-8b49c2e9e1f6",
   "metadata": {},
   "source": [
    "## Store the result"
   ]
  },
  {
   "cell_type": "markdown",
   "id": "3b7f2057-d2db-4119-aa56-20f44eccda88",
   "metadata": {},
   "source": [
    "#### multinichenetR object"
   ]
  },
  {
   "cell_type": "code",
   "execution_count": null,
   "id": "b9286673-224c-49d4-ad8e-41a1c28b04ff",
   "metadata": {},
   "outputs": [],
   "source": [
    "saveRDS(object =multinichenet_output_group1_t2vst1 ,file = file.path(Object_Output_Folder,'multinichenet_NvsNR_Cellstate.rds'))"
   ]
  },
  {
   "cell_type": "markdown",
   "id": "27a33619-3c87-4662-ae37-5edd8c733da3",
   "metadata": {},
   "source": [
    "#### prioritization table"
   ]
  },
  {
   "cell_type": "code",
   "execution_count": null,
   "id": "27f53dbb-c04c-4033-a10d-1c45e80ab544",
   "metadata": {},
   "outputs": [],
   "source": [
    "prioritized_tbl_oi_all = get_top_n_lr_pairs(prioritization_tables, 3000, rank_per_group =T\n",
    "                                            # senders_oi = c('CD8T','Macs','Tumor'),\n",
    "                                            # receivers_oi= c('CD8T','Macs','Tumor')\n",
    "                                           )\n",
    "write.table(prioritized_tbl_oi_all,'../data/table/multinichenetR/multinichenetr_NR_vs_R_Baseline_Top3000_per_group.tsv',\n",
    "            row.names =F,quote = F,sep='\\t')\n",
    "write.table(prioritization_tables$sample_prioritization_tbl,\n",
    "            '../data/table/multinichenetR/multinichenetr_NR_vs_R_Cellstate_prioritization_tbl.tsv',row.names =F,quote = F,sep='\\t')\n",
    "write.table(prioritization_tables$group_prioritization_tbl,\n",
    "            '../data/table/multinichenetR/multinichenetr_NR_vs_R_Cellstate_prioritization_tbl.tsv',row.names =F,quote = F,sep='\\t')"
   ]
  },
  {
   "cell_type": "code",
   "execution_count": null,
   "id": "3f6f9417-a0af-47e0-8e6a-eca1944bb06c",
   "metadata": {},
   "outputs": [],
   "source": [
    "prioritized_tbl_oi_all = get_top_n_lr_pairs(\n",
    "  multinichenet_output_group1_t2vst1$prioritization_tables, \n",
    "  top_n = 25, \n",
    "  rank_per_group = T,\n",
    "    senders_oi = c('Tumor_EMT_III','Tumor_ER_I','Macs_Secretion','Macs_Adhesion','Macs_Interferon','Macs_Lipid','Macs_Endocytosis'),\n",
    "    receivers_oi= c('Tumor_EMT_III','Tumor_ER_I','Macs_Secretion','Macs_Adhesion','Macs_Interferon','Macs_Lipid','Macs_Endocytosis'),\n",
    "  )\n",
    "\n",
    "prioritized_tbl_oi = \n",
    "  multinichenet_output_group1_t2vst1$prioritization_tables$group_prioritization_tbl %>%\n",
    "  filter(id %in% prioritized_tbl_oi_all$id) %>%\n",
    "  distinct(id, sender, receiver, ligand, receptor, group) %>% \n",
    "  left_join(prioritized_tbl_oi_all)\n",
    "prioritized_tbl_oi$prioritization_score[is.na(prioritized_tbl_oi$prioritization_score)] = 0\n",
    "\n",
    "senders_receivers = union(prioritized_tbl_oi$sender %>% unique(), prioritized_tbl_oi$receiver %>% unique()) %>% sort()\n",
    "\n",
    "colors_sender = c()\n",
    "colors_name = c()\n",
    "for( celltype in names(COLOR_PAlETTE$Cellstate)){\n",
    "    if(celltype %in% senders_receivers){\n",
    "        colors_sender  = c(colors_sender ,COLOR_PAlETTE$Cellstate[[celltype]])\n",
    "        colors_name = c(colors_name,celltype)\n",
    "        }\n",
    "}\n",
    "colors_sender = colors_sender %>% magrittr::set_names(colors_name)\n",
    "colors_receiver = colors_sender\n",
    "\n",
    "circos_list = make_circos_group_comparison(prioritized_tbl_oi, colors_sender, colors_receiver)\n"
   ]
  },
  {
   "cell_type": "code",
   "execution_count": null,
   "id": "d7a9ff29-75c8-43eb-b445-d2c4cfd3f578",
   "metadata": {},
   "outputs": [],
   "source": []
  }
 ],
 "metadata": {
  "kernelspec": {
   "display_name": "scPipe_R_41",
   "language": "R",
   "name": "scpipe_r_41"
  },
  "language_info": {
   "codemirror_mode": "r",
   "file_extension": ".r",
   "mimetype": "text/x-r-source",
   "name": "R",
   "pygments_lexer": "r",
   "version": "4.1.3"
  }
 },
 "nbformat": 4,
 "nbformat_minor": 5
}
